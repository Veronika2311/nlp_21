{
 "cells": [
  {
   "cell_type": "code",
   "execution_count": 1,
   "id": "99a0b1a0",
   "metadata": {},
   "outputs": [],
   "source": [
    "import pandas as pd"
   ]
  },
  {
   "cell_type": "code",
   "execution_count": 2,
   "id": "211152da",
   "metadata": {},
   "outputs": [],
   "source": [
    "from nltk.tokenize import word_tokenize, wordpunct_tokenize\n",
    "from tqdm import tqdm\n",
    "import numpy as np\n",
    "import json\n",
    "#from scipy import sparse\n",
    "from tqdm import tqdm\n",
    "from sklearn.feature_extraction.text import CountVectorizer, TfidfVectorizer\n",
    "from sklearn.metrics.pairwise import cosine_similarity\n",
    "#import joblib\n",
    "#from spacy.lang.ru import Russian\n",
    "#from gensim.models import KeyedVectors\n",
    "import torch\n",
    "#from transformers import AutoTokenizer, AutoModel\n",
    "#! -m spacy download ru_core_news_sm\n",
    "#import ru_core_news_sm"
   ]
  },
  {
   "cell_type": "code",
   "execution_count": 3,
   "id": "d939c3a9",
   "metadata": {},
   "outputs": [
    {
     "data": {
      "text/plain": [
       "138"
      ]
     },
     "execution_count": 3,
     "metadata": {},
     "output_type": "execute_result"
    }
   ],
   "source": [
    "len('Зашли в\"аппетит\" случайно.Не смотря на то,что был будний день( вторник 14 сентября) и достаточно много народа, все же решили остаться.нас ')"
   ]
  },
  {
   "cell_type": "code",
   "execution_count": 4,
   "id": "255cbb50",
   "metadata": {},
   "outputs": [],
   "source": [
    "data = pd.read_csv('train_formated_reviews.csv', index_col='Unnamed: 0')"
   ]
  },
  {
   "cell_type": "code",
   "execution_count": 5,
   "id": "3c745399",
   "metadata": {},
   "outputs": [
    {
     "data": {
      "text/html": [
       "<div>\n",
       "<style scoped>\n",
       "    .dataframe tbody tr th:only-of-type {\n",
       "        vertical-align: middle;\n",
       "    }\n",
       "\n",
       "    .dataframe tbody tr th {\n",
       "        vertical-align: top;\n",
       "    }\n",
       "\n",
       "    .dataframe thead th {\n",
       "        text-align: right;\n",
       "    }\n",
       "</style>\n",
       "<table border=\"1\" class=\"dataframe\">\n",
       "  <thead>\n",
       "    <tr style=\"text-align: right;\">\n",
       "      <th></th>\n",
       "      <th>text_id</th>\n",
       "      <th>sentence</th>\n",
       "      <th>word</th>\n",
       "      <th>lemma</th>\n",
       "      <th>POS</th>\n",
       "      <th>head</th>\n",
       "      <th>cat01</th>\n",
       "      <th>aspect</th>\n",
       "      <th>start</th>\n",
       "      <th>end</th>\n",
       "    </tr>\n",
       "  </thead>\n",
       "  <tbody>\n",
       "    <tr>\n",
       "      <th>1</th>\n",
       "      <td>3976</td>\n",
       "      <td>День 8-го марта прошёл, можно и итоги подвести.</td>\n",
       "      <td>День</td>\n",
       "      <td>день</td>\n",
       "      <td>NOUN</td>\n",
       "      <td>прошёл</td>\n",
       "      <td>0</td>\n",
       "      <td>0</td>\n",
       "      <td>-</td>\n",
       "      <td>-</td>\n",
       "    </tr>\n",
       "    <tr>\n",
       "      <th>2</th>\n",
       "      <td>3976</td>\n",
       "      <td>День 8-го марта прошёл, можно и итоги подвести.</td>\n",
       "      <td>8-го</td>\n",
       "      <td>8-й</td>\n",
       "      <td>ADJ</td>\n",
       "      <td>День</td>\n",
       "      <td>0</td>\n",
       "      <td>0</td>\n",
       "      <td>-</td>\n",
       "      <td>-</td>\n",
       "    </tr>\n",
       "    <tr>\n",
       "      <th>3</th>\n",
       "      <td>3976</td>\n",
       "      <td>День 8-го марта прошёл, можно и итоги подвести.</td>\n",
       "      <td>марта</td>\n",
       "      <td>март</td>\n",
       "      <td>NOUN</td>\n",
       "      <td>8-го</td>\n",
       "      <td>0</td>\n",
       "      <td>0</td>\n",
       "      <td>-</td>\n",
       "      <td>-</td>\n",
       "    </tr>\n",
       "    <tr>\n",
       "      <th>4</th>\n",
       "      <td>3976</td>\n",
       "      <td>День 8-го марта прошёл, можно и итоги подвести.</td>\n",
       "      <td>прошёл</td>\n",
       "      <td>пройти</td>\n",
       "      <td>VERB</td>\n",
       "      <td>прошёл</td>\n",
       "      <td>0</td>\n",
       "      <td>0</td>\n",
       "      <td>-</td>\n",
       "      <td>-</td>\n",
       "    </tr>\n",
       "    <tr>\n",
       "      <th>5</th>\n",
       "      <td>3976</td>\n",
       "      <td>День 8-го марта прошёл, можно и итоги подвести.</td>\n",
       "      <td>,</td>\n",
       "      <td>,</td>\n",
       "      <td>PUNCT</td>\n",
       "      <td>можно</td>\n",
       "      <td>0</td>\n",
       "      <td>0</td>\n",
       "      <td>-</td>\n",
       "      <td>-</td>\n",
       "    </tr>\n",
       "    <tr>\n",
       "      <th>...</th>\n",
       "      <td>...</td>\n",
       "      <td>...</td>\n",
       "      <td>...</td>\n",
       "      <td>...</td>\n",
       "      <td>...</td>\n",
       "      <td>...</td>\n",
       "      <td>...</td>\n",
       "      <td>...</td>\n",
       "      <td>...</td>\n",
       "      <td>...</td>\n",
       "    </tr>\n",
       "    <tr>\n",
       "      <th>47030</th>\n",
       "      <td>16630</td>\n",
       "      <td>Спасибо персоналу, ему удается создать ощущени...</td>\n",
       "      <td>)</td>\n",
       "      <td>)</td>\n",
       "      <td>PUNCT</td>\n",
       "      <td>Спасибо</td>\n",
       "      <td>0</td>\n",
       "      <td>0</td>\n",
       "      <td>-</td>\n",
       "      <td>-</td>\n",
       "    </tr>\n",
       "    <tr>\n",
       "      <th>47031</th>\n",
       "      <td>16630</td>\n",
       "      <td>Спасибо персоналу, ему удается создать ощущени...</td>\n",
       "      <td>)</td>\n",
       "      <td>)</td>\n",
       "      <td>PUNCT</td>\n",
       "      <td>Спасибо</td>\n",
       "      <td>0</td>\n",
       "      <td>0</td>\n",
       "      <td>-</td>\n",
       "      <td>-</td>\n",
       "    </tr>\n",
       "    <tr>\n",
       "      <th>47032</th>\n",
       "      <td>16630</td>\n",
       "      <td>Спасибо персоналу, ему удается создать ощущени...</td>\n",
       "      <td>)</td>\n",
       "      <td>)</td>\n",
       "      <td>PUNCT</td>\n",
       "      <td>Спасибо</td>\n",
       "      <td>0</td>\n",
       "      <td>0</td>\n",
       "      <td>-</td>\n",
       "      <td>-</td>\n",
       "    </tr>\n",
       "    <tr>\n",
       "      <th>47033</th>\n",
       "      <td>16630</td>\n",
       "      <td>Спасибо персоналу, ему удается создать ощущени...</td>\n",
       "      <td>)</td>\n",
       "      <td>)</td>\n",
       "      <td>PUNCT</td>\n",
       "      <td>Спасибо</td>\n",
       "      <td>0</td>\n",
       "      <td>0</td>\n",
       "      <td>-</td>\n",
       "      <td>-</td>\n",
       "    </tr>\n",
       "    <tr>\n",
       "      <th>47034</th>\n",
       "      <td>16630</td>\n",
       "      <td>Спасибо персоналу, ему удается создать ощущени...</td>\n",
       "      <td>)</td>\n",
       "      <td>)</td>\n",
       "      <td>PUNCT</td>\n",
       "      <td>Спасибо</td>\n",
       "      <td>0</td>\n",
       "      <td>0</td>\n",
       "      <td>-</td>\n",
       "      <td>-</td>\n",
       "    </tr>\n",
       "  </tbody>\n",
       "</table>\n",
       "<p>47034 rows × 10 columns</p>\n",
       "</div>"
      ],
      "text/plain": [
       "       text_id                                           sentence    word  \\\n",
       "1         3976    День 8-го марта прошёл, можно и итоги подвести.    День   \n",
       "2         3976    День 8-го марта прошёл, можно и итоги подвести.    8-го   \n",
       "3         3976    День 8-го марта прошёл, можно и итоги подвести.   марта   \n",
       "4         3976    День 8-го марта прошёл, можно и итоги подвести.  прошёл   \n",
       "5         3976    День 8-го марта прошёл, можно и итоги подвести.       ,   \n",
       "...        ...                                                ...     ...   \n",
       "47030    16630  Спасибо персоналу, ему удается создать ощущени...       )   \n",
       "47031    16630  Спасибо персоналу, ему удается создать ощущени...       )   \n",
       "47032    16630  Спасибо персоналу, ему удается создать ощущени...       )   \n",
       "47033    16630  Спасибо персоналу, ему удается создать ощущени...       )   \n",
       "47034    16630  Спасибо персоналу, ему удается создать ощущени...       )   \n",
       "\n",
       "        lemma    POS     head  cat01 aspect start end  \n",
       "1        день   NOUN   прошёл      0      0     -   -  \n",
       "2         8-й    ADJ     День      0      0     -   -  \n",
       "3        март   NOUN     8-го      0      0     -   -  \n",
       "4      пройти   VERB   прошёл      0      0     -   -  \n",
       "5           ,  PUNCT    можно      0      0     -   -  \n",
       "...       ...    ...      ...    ...    ...   ...  ..  \n",
       "47030       )  PUNCT  Спасибо      0      0     -   -  \n",
       "47031       )  PUNCT  Спасибо      0      0     -   -  \n",
       "47032       )  PUNCT  Спасибо      0      0     -   -  \n",
       "47033       )  PUNCT  Спасибо      0      0     -   -  \n",
       "47034       )  PUNCT  Спасибо      0      0     -   -  \n",
       "\n",
       "[47034 rows x 10 columns]"
      ]
     },
     "execution_count": 5,
     "metadata": {},
     "output_type": "execute_result"
    }
   ],
   "source": [
    "data"
   ]
  },
  {
   "cell_type": "code",
   "execution_count": 6,
   "id": "618b5e9a",
   "metadata": {},
   "outputs": [
    {
     "data": {
      "text/plain": [
       "{'0', 'Food', 'Interior', 'Price', 'Service', 'Whole'}"
      ]
     },
     "execution_count": 6,
     "metadata": {},
     "output_type": "execute_result"
    }
   ],
   "source": [
    "set(data.aspect)"
   ]
  },
  {
   "cell_type": "code",
   "execution_count": 7,
   "id": "b5770771",
   "metadata": {},
   "outputs": [],
   "source": [
    "data_for_train = []\n",
    "lemms = list(data['lemma'])\n",
    "asps = list(data['aspect'])\n",
    "first_el = 'День 8-го марта прошёл, можно и итоги подвести.'\n",
    "#first_el = \n",
    "one_sentence = []\n",
    "one_aspect = []\n",
    "for i, el in enumerate(data.sentence):\n",
    "    if el != first_el:\n",
    "        data_for_train.append((one_sentence, one_aspect))\n",
    "        one_sentence = []\n",
    "        one_aspect = []\n",
    "        first_el = el\n",
    "    one_sentence.append(lemms[i])\n",
    "    one_aspect.append(asps[i])\n",
    "data_for_train.append((one_sentence, one_aspect))"
   ]
  },
  {
   "cell_type": "code",
   "execution_count": null,
   "id": "84966ce7",
   "metadata": {},
   "outputs": [],
   "source": []
  },
  {
   "cell_type": "code",
   "execution_count": 8,
   "id": "54d20780",
   "metadata": {},
   "outputs": [
    {
     "data": {
      "text/plain": [
       "(['мочь', 'сказать', 'одно', ',', 'я', 'была', 'приятно', 'удивить', '!'],\n",
       " ['0', '0', '0', '0', '0', '0', '0', '0', '0'])"
      ]
     },
     "execution_count": 8,
     "metadata": {},
     "output_type": "execute_result"
    }
   ],
   "source": [
    "data_for_train[-2]"
   ]
  },
  {
   "cell_type": "code",
   "execution_count": 9,
   "id": "17f8da7c",
   "metadata": {},
   "outputs": [
    {
     "data": {
      "text/plain": [
       "(['спасибо',\n",
       "  'персонал',\n",
       "  ',',\n",
       "  'ему',\n",
       "  'удаваться',\n",
       "  'создать',\n",
       "  'ощущение',\n",
       "  ',',\n",
       "  'что',\n",
       "  'этот',\n",
       "  'ресторан',\n",
       "  '-',\n",
       "  'особенный',\n",
       "  'место',\n",
       "  'где',\n",
       "  'каждый',\n",
       "  'чувствовать',\n",
       "  'себя',\n",
       "  'долгожданный',\n",
       "  'гость',\n",
       "  '!',\n",
       "  ')',\n",
       "  ')',\n",
       "  ')',\n",
       "  ')',\n",
       "  ')',\n",
       "  ')',\n",
       "  ')',\n",
       "  ')',\n",
       "  ')',\n",
       "  ')',\n",
       "  ')'],\n",
       " ['0',\n",
       "  'Service',\n",
       "  '0',\n",
       "  '0',\n",
       "  '0',\n",
       "  '0',\n",
       "  '0',\n",
       "  '0',\n",
       "  '0',\n",
       "  '0',\n",
       "  'Whole',\n",
       "  '0',\n",
       "  '0',\n",
       "  'Whole',\n",
       "  '0',\n",
       "  '0',\n",
       "  '0',\n",
       "  '0',\n",
       "  '0',\n",
       "  '0',\n",
       "  '0',\n",
       "  '0',\n",
       "  '0',\n",
       "  '0',\n",
       "  '0',\n",
       "  '0',\n",
       "  '0',\n",
       "  '0',\n",
       "  '0',\n",
       "  '0',\n",
       "  '0',\n",
       "  '0'])"
      ]
     },
     "execution_count": 9,
     "metadata": {},
     "output_type": "execute_result"
    }
   ],
   "source": [
    "data_for_train[-1]"
   ]
  },
  {
   "cell_type": "code",
   "execution_count": 10,
   "id": "b22e4266",
   "metadata": {},
   "outputs": [
    {
     "data": {
      "text/plain": [
       "<torch._C.Generator at 0x1e76bda6ab0>"
      ]
     },
     "execution_count": 10,
     "metadata": {},
     "output_type": "execute_result"
    }
   ],
   "source": [
    "import torch\n",
    "import torch.autograd as autograd\n",
    "import torch.nn as nn\n",
    "import torch.optim as optim\n",
    "\n",
    "torch.manual_seed(1)"
   ]
  },
  {
   "cell_type": "code",
   "execution_count": 11,
   "id": "a32f9336",
   "metadata": {},
   "outputs": [],
   "source": [
    "def argmax(vec):\n",
    "    # return the argmax as a python int\n",
    "    _, idx = torch.max(vec, 1)\n",
    "    return idx.item()\n",
    "\n",
    "\n",
    "def prepare_sequence(seq, to_ix):\n",
    "    idxs = []\n",
    "    for w in seq:\n",
    "        if w in to_ix:\n",
    "            idxs.append(to_ix[w])\n",
    "        else:\n",
    "            idxs.append(random.randint(0, 3800))\n",
    "    \n",
    "    return torch.tensor(idxs, dtype=torch.long)\n",
    "\n",
    "\n",
    "# Compute log sum exp in a numerically stable way for the forward algorithm\n",
    "def log_sum_exp(vec):\n",
    "    max_score = vec[0, argmax(vec)]\n",
    "    max_score_broadcast = max_score.view(1, -1).expand(1, vec.size()[1])\n",
    "    return max_score + \\\n",
    "        torch.log(torch.sum(torch.exp(vec - max_score_broadcast)))"
   ]
  },
  {
   "cell_type": "code",
   "execution_count": 12,
   "id": "b88350b3",
   "metadata": {},
   "outputs": [],
   "source": [
    "class BiLSTM_CRF(nn.Module):\n",
    "\n",
    "    def __init__(self, vocab_size, tag_to_ix, embedding_dim, hidden_dim):\n",
    "        super(BiLSTM_CRF, self).__init__()\n",
    "        self.embedding_dim = embedding_dim\n",
    "        self.hidden_dim = hidden_dim\n",
    "        self.vocab_size = vocab_size\n",
    "        self.tag_to_ix = tag_to_ix\n",
    "        self.tagset_size = len(tag_to_ix)\n",
    "\n",
    "        self.word_embeds = nn.Embedding(vocab_size, embedding_dim)\n",
    "        self.lstm = nn.LSTM(embedding_dim, hidden_dim // 2,\n",
    "                            num_layers=1, bidirectional=True)\n",
    "\n",
    "        # Maps the output of the LSTM into tag space.\n",
    "        self.hidden2tag = nn.Linear(hidden_dim, self.tagset_size)\n",
    "\n",
    "        # Matrix of transition parameters.  Entry i,j is the score of\n",
    "        # transitioning *to* i *from* j.\n",
    "        self.transitions = nn.Parameter(\n",
    "            torch.randn(self.tagset_size, self.tagset_size))\n",
    "\n",
    "        # These two statements enforce the constraint that we never transfer\n",
    "        # to the start tag and we never transfer from the stop tag\n",
    "        self.transitions.data[tag_to_ix[START_TAG], :] = -10000\n",
    "        self.transitions.data[:, tag_to_ix[STOP_TAG]] = -10000\n",
    "\n",
    "        self.hidden = self.init_hidden()\n",
    "\n",
    "    def init_hidden(self):\n",
    "        return (torch.randn(2, 1, self.hidden_dim // 2),\n",
    "                torch.randn(2, 1, self.hidden_dim // 2))\n",
    "\n",
    "    def _forward_alg(self, feats):\n",
    "        # Do the forward algorithm to compute the partition function\n",
    "        init_alphas = torch.full((1, self.tagset_size), -10000.)\n",
    "        # START_TAG has all of the score.\n",
    "        init_alphas[0][self.tag_to_ix[START_TAG]] = 0.\n",
    "\n",
    "        # Wrap in a variable so that we will get automatic backprop\n",
    "        forward_var = init_alphas\n",
    "\n",
    "        # Iterate through the sentence\n",
    "        for feat in feats:\n",
    "            alphas_t = []  # The forward tensors at this timestep\n",
    "            for next_tag in range(self.tagset_size):\n",
    "                # broadcast the emission score: it is the same regardless of\n",
    "                # the previous tag\n",
    "                emit_score = feat[next_tag].view(\n",
    "                    1, -1).expand(1, self.tagset_size)\n",
    "                # the ith entry of trans_score is the score of transitioning to\n",
    "                # next_tag from i\n",
    "                trans_score = self.transitions[next_tag].view(1, -1)\n",
    "                # The ith entry of next_tag_var is the value for the\n",
    "                # edge (i -> next_tag) before we do log-sum-exp\n",
    "                next_tag_var = forward_var + trans_score + emit_score\n",
    "                # The forward variable for this tag is log-sum-exp of all the\n",
    "                # scores.\n",
    "                alphas_t.append(log_sum_exp(next_tag_var).view(1))\n",
    "            forward_var = torch.cat(alphas_t).view(1, -1)\n",
    "        terminal_var = forward_var + self.transitions[self.tag_to_ix[STOP_TAG]]\n",
    "        alpha = log_sum_exp(terminal_var)\n",
    "        return alpha\n",
    "\n",
    "    def _get_lstm_features(self, sentence):\n",
    "        self.hidden = self.init_hidden()\n",
    "        embeds = self.word_embeds(sentence).view(len(sentence), 1, -1)\n",
    "        lstm_out, self.hidden = self.lstm(embeds, self.hidden)\n",
    "        lstm_out = lstm_out.view(len(sentence), self.hidden_dim)\n",
    "        lstm_feats = self.hidden2tag(lstm_out)\n",
    "        return lstm_feats\n",
    "\n",
    "    def _score_sentence(self, feats, tags):\n",
    "        # Gives the score of a provided tag sequence\n",
    "        score = torch.zeros(1)\n",
    "        tags = torch.cat([torch.tensor([self.tag_to_ix[START_TAG]], dtype=torch.long), tags])\n",
    "        for i, feat in enumerate(feats):\n",
    "            score = score + \\\n",
    "                self.transitions[tags[i + 1], tags[i]] + feat[tags[i + 1]]\n",
    "        score = score + self.transitions[self.tag_to_ix[STOP_TAG], tags[-1]]\n",
    "        return score\n",
    "\n",
    "    def _viterbi_decode(self, feats):\n",
    "        backpointers = []\n",
    "\n",
    "        # Initialize the viterbi variables in log space\n",
    "        init_vvars = torch.full((1, self.tagset_size), -10000.)\n",
    "        init_vvars[0][self.tag_to_ix[START_TAG]] = 0\n",
    "\n",
    "        # forward_var at step i holds the viterbi variables for step i-1\n",
    "        forward_var = init_vvars\n",
    "        for feat in feats:\n",
    "            bptrs_t = []  # holds the backpointers for this step\n",
    "            viterbivars_t = []  # holds the viterbi variables for this step\n",
    "\n",
    "            for next_tag in range(self.tagset_size):\n",
    "                # next_tag_var[i] holds the viterbi variable for tag i at the\n",
    "                # previous step, plus the score of transitioning\n",
    "                # from tag i to next_tag.\n",
    "                # We don't include the emission scores here because the max\n",
    "                # does not depend on them (we add them in below)\n",
    "                next_tag_var = forward_var + self.transitions[next_tag]\n",
    "                best_tag_id = argmax(next_tag_var)\n",
    "                bptrs_t.append(best_tag_id)\n",
    "                viterbivars_t.append(next_tag_var[0][best_tag_id].view(1))\n",
    "            # Now add in the emission scores, and assign forward_var to the set\n",
    "            # of viterbi variables we just computed\n",
    "            forward_var = (torch.cat(viterbivars_t) + feat).view(1, -1)\n",
    "            backpointers.append(bptrs_t)\n",
    "\n",
    "        # Transition to STOP_TAG\n",
    "        terminal_var = forward_var + self.transitions[self.tag_to_ix[STOP_TAG]]\n",
    "        best_tag_id = argmax(terminal_var)\n",
    "        path_score = terminal_var[0][best_tag_id]\n",
    "\n",
    "        # Follow the back pointers to decode the best path.\n",
    "        best_path = [best_tag_id]\n",
    "        for bptrs_t in reversed(backpointers):\n",
    "            best_tag_id = bptrs_t[best_tag_id]\n",
    "            best_path.append(best_tag_id)\n",
    "        # Pop off the start tag (we dont want to return that to the caller)\n",
    "        start = best_path.pop()\n",
    "        assert start == self.tag_to_ix[START_TAG]  # Sanity check\n",
    "        best_path.reverse()\n",
    "        return path_score, best_path\n",
    "\n",
    "    def neg_log_likelihood(self, sentence, tags):\n",
    "        feats = self._get_lstm_features(sentence)\n",
    "        forward_score = self._forward_alg(feats)\n",
    "        gold_score = self._score_sentence(feats, tags)\n",
    "        return forward_score - gold_score\n",
    "\n",
    "    def forward(self, sentence):  # dont confuse this with _forward_alg above.\n",
    "        # Get the emission scores from the BiLSTM\n",
    "        lstm_feats = self._get_lstm_features(sentence)\n",
    "\n",
    "        # Find the best path, given the features.\n",
    "        score, tag_seq = self._viterbi_decode(lstm_feats)\n",
    "        return score, tag_seq"
   ]
  },
  {
   "cell_type": "code",
   "execution_count": 13,
   "id": "c42dee79",
   "metadata": {},
   "outputs": [],
   "source": [
    "from sklearn.model_selection import train_test_split\n",
    "from sklearn.metrics import f1_score\n",
    "from tqdm import tqdm"
   ]
  },
  {
   "cell_type": "code",
   "execution_count": 14,
   "id": "874ed29f",
   "metadata": {},
   "outputs": [
    {
     "name": "stderr",
     "output_type": "stream",
     "text": [
      "100%|█████████████████████████████████████████████████████| 2390/2390 [03:01<00:00, 13.20it/s]\n",
      "100%|█████████████████████████████████████████████████████| 2390/2390 [02:20<00:00, 17.06it/s]\n",
      "100%|█████████████████████████████████████████████████████| 2390/2390 [03:21<00:00, 11.85it/s]\n",
      "100%|█████████████████████████████████████████████████████| 2390/2390 [02:59<00:00, 13.33it/s]\n",
      "100%|█████████████████████████████████████████████████████| 2390/2390 [04:09<00:00,  9.59it/s]\n",
      "100%|█████████████████████████████████████████████████████| 2390/2390 [03:04<00:00, 12.98it/s]\n",
      "100%|█████████████████████████████████████████████████████| 2390/2390 [02:27<00:00, 16.15it/s]\n"
     ]
    }
   ],
   "source": [
    "START_TAG = \"<START>\"\n",
    "STOP_TAG = \"<STOP>\"\n",
    "EMBEDDING_DIM = 300\n",
    "HIDDEN_DIM = 32\n",
    "\n",
    "# Make up some training data\n",
    "training_data = data_for_train[:-600]\n",
    "\n",
    "word_to_ix = {}\n",
    "for sentence, tags in training_data:\n",
    "    for word in sentence:\n",
    "        if word not in word_to_ix:\n",
    "            word_to_ix[word] = len(word_to_ix)\n",
    "\n",
    "tag_to_ix = {'0':0, 'Food':1, 'Interior':2, 'Price':3, 'Service':4, 'Whole':5, '<START>':6, '<STOP>':7}\n",
    "\n",
    "model = BiLSTM_CRF(len(word_to_ix), tag_to_ix, EMBEDDING_DIM, HIDDEN_DIM)\n",
    "optimizer = optim.SGD(model.parameters(), lr=0.01, weight_decay=1e-4)\n",
    "criterion = torch.nn.CrossEntropyLoss()\n",
    "test_f1 = []\n",
    "losses_train = []\n",
    "# Make sure prepare_sequence from earlier in the LSTM section is loaded\n",
    "for epoch in range(7):\n",
    "    for sentence, tags in tqdm(training_data):\n",
    "        # Step 1. Remember that Pytorch accumulates gradients.\n",
    "        # We need to clear them out before each instance\n",
    "        model.zero_grad()\n",
    "\n",
    "        # Step 2. Get our inputs ready for the network, that is,\n",
    "        # turn them into Tensors of word indices.\n",
    "        sentence_in = prepare_sequence(sentence, word_to_ix)\n",
    "        targets = torch.tensor([tag_to_ix[t] for t in tags], dtype=torch.long)\n",
    "\n",
    "        # Step 3. Run our forward pass.\n",
    "        loss = model.neg_log_likelihood(sentence_in, targets)\n",
    "        losses_train.append(loss)\n",
    "\n",
    "        # Step 4. Compute the loss, gradients, and update the parameters by\n",
    "        # calling optimizer.step()\n",
    "        loss.backward()\n",
    "        optimizer.step()\n",
    "\n",
    "# Check predictions after training\n"
   ]
  },
  {
   "cell_type": "code",
   "execution_count": 15,
   "id": "2cfc8b19",
   "metadata": {},
   "outputs": [
    {
     "data": {
      "text/plain": [
       "{'0', 'Food', 'Interior', 'Price', 'Service', 'Whole'}"
      ]
     },
     "execution_count": 15,
     "metadata": {},
     "output_type": "execute_result"
    }
   ],
   "source": [
    "set(data.aspect)"
   ]
  },
  {
   "cell_type": "code",
   "execution_count": 16,
   "id": "61364bbe",
   "metadata": {},
   "outputs": [
    {
     "data": {
      "text/plain": [
       "3885"
      ]
     },
     "execution_count": 16,
     "metadata": {},
     "output_type": "execute_result"
    }
   ],
   "source": [
    "len(word_to_ix)"
   ]
  },
  {
   "cell_type": "code",
   "execution_count": 17,
   "id": "6713c4a5",
   "metadata": {},
   "outputs": [],
   "source": [
    "import random"
   ]
  },
  {
   "cell_type": "code",
   "execution_count": 20,
   "id": "d430f8c2",
   "metadata": {},
   "outputs": [
    {
     "name": "stderr",
     "output_type": "stream",
     "text": [
      "100%|███████████████████████████████████████████████████████| 600/600 [00:12<00:00, 49.60it/s]\n"
     ]
    }
   ],
   "source": [
    "answers_test = []\n",
    "losses_test = []\n",
    "with torch.no_grad():\n",
    "    for sentence, tags in tqdm(data_for_train[-600:]):\n",
    "        #print(tags)\n",
    "        # Step 1. Remember that Pytorch accumulates gradients.\n",
    "        # We need to clear them out before each instance=\n",
    "\n",
    "        # Step 2. Get our inputs ready for the network, that is,\n",
    "        # turn them into Tensors of word indices.\n",
    "        sentence_in = prepare_sequence(sentence, word_to_ix)\n",
    "        targets = torch.tensor([tag_to_ix[t] for t in tags], dtype=torch.long)\n",
    "        answers_test.append(model(sentence_in))\n",
    "\n",
    "        # Step 3. Run our forward pass.\n",
    "        loss = model.neg_log_likelihood(sentence_in, targets)\n",
    "        losses_test.append(loss)\n",
    "\n",
    "        # Step 4. Compute the loss, gradients, and update the parameters by\n",
    "        # calling optimizer.step()"
   ]
  },
  {
   "cell_type": "code",
   "execution_count": 18,
   "id": "d2e43b0e",
   "metadata": {},
   "outputs": [
    {
     "data": {
      "text/plain": [
       "(tensor(153.5010, grad_fn=<SelectBackward0>),\n",
       " [0, 0, 0, 5, 0, 0, 0, 0, 0, 0, 0, 1, 0, 4, 0, 0, 0])"
      ]
     },
     "execution_count": 18,
     "metadata": {},
     "output_type": "execute_result"
    }
   ],
   "source": [
    "#мы могли бы сказать, что мы переобучились. Но мы не переобучились -- мы можем в предсказание придуманного случайного\n",
    "sentence = 'мы ходить в ресторан \" армения \" , горячий быть вкусно, десерт и сервис быть не очень'.split()\n",
    "sentence_in = prepare_sequence(sentence, word_to_ix)\n",
    "model(sentence_in)"
   ]
  },
  {
   "cell_type": "code",
   "execution_count": 21,
   "id": "c3a752b2",
   "metadata": {},
   "outputs": [
    {
     "name": "stdout",
     "output_type": "stream",
     "text": [
      "tensor([0, 1, 0, 0, 0, 0, 0, 0, 1, 0, 0, 1, 0, 0, 0, 0, 0, 0, 0, 0, 0, 0, 0, 1,\n",
      "        0, 0, 0, 0, 0, 0, 0, 0, 0, 0, 0, 0, 0, 0, 0, 0, 0, 0, 0, 0, 0, 0, 1, 0,\n",
      "        0, 0, 5, 0])\n"
     ]
    }
   ],
   "source": [
    "print(prepare_sequence(data_for_train[-600:-598][0][1], tag_to_ix))"
   ]
  },
  {
   "cell_type": "code",
   "execution_count": 22,
   "id": "94828388",
   "metadata": {},
   "outputs": [],
   "source": [
    "ans_all = []\n",
    "pre_all = []\n",
    "ans = []\n",
    "pre = []\n",
    "with torch.no_grad():\n",
    "    for i, el in enumerate(answers_test[-600:]):\n",
    "        pre_all.extend(prepare_sequence(data_for_train[-600:][i][1], tag_to_ix))\n",
    "        ans_all.extend(el[1])\n",
    "        pre.append(prepare_sequence(data_for_train[-600:][i][1], tag_to_ix))\n",
    "        ans.append(el[1])"
   ]
  },
  {
   "cell_type": "code",
   "execution_count": 35,
   "id": "31ac7ee4",
   "metadata": {},
   "outputs": [
    {
     "data": {
      "text/plain": [
       "0"
      ]
     },
     "execution_count": 35,
     "metadata": {},
     "output_type": "execute_result"
    }
   ],
   "source": [
    "int(pre_all[0])"
   ]
  },
  {
   "cell_type": "code",
   "execution_count": 36,
   "id": "b938dcd8",
   "metadata": {},
   "outputs": [
    {
     "data": {
      "text/plain": [
       "{0, 1, 2, 3, 4, 5}"
      ]
     },
     "execution_count": 36,
     "metadata": {},
     "output_type": "execute_result"
    }
   ],
   "source": [
    "from \n",
    "([int(i) for i in pre_all])"
   ]
  },
  {
   "cell_type": "code",
   "execution_count": 21,
   "id": "b572caca",
   "metadata": {},
   "outputs": [
    {
     "name": "stdout",
     "output_type": "stream",
     "text": [
      "[0, 0, 0, 0, 0, 0, 0, 0, 0, 0, 0, 0, 0, 4, 0, 0, 0, 0, 0, 0, 0, 4, 4, 0, 0, 0, 0, 0, 0]\n"
     ]
    }
   ],
   "source": [
    "print(ans[3])"
   ]
  },
  {
   "cell_type": "code",
   "execution_count": 22,
   "id": "cb35c694",
   "metadata": {},
   "outputs": [
    {
     "name": "stdout",
     "output_type": "stream",
     "text": [
      "[0, 0, 0, 0, 0, 0, 0, 5, 0, 0, 0, 0, 0, 4, 0, 0, 0, 0, 0, 0, 0, 4, 4, 0, 0, 0, 0, 0, 0]\n"
     ]
    }
   ],
   "source": [
    "print([int(i) for i in pre[3]])"
   ]
  },
  {
   "cell_type": "code",
   "execution_count": 23,
   "id": "a77ab345",
   "metadata": {},
   "outputs": [],
   "source": [
    "from sklearn.metrics import *"
   ]
  },
  {
   "cell_type": "code",
   "execution_count": 24,
   "id": "8d9bfd97",
   "metadata": {},
   "outputs": [
    {
     "data": {
      "text/plain": [
       "0.9418674099143938"
      ]
     },
     "execution_count": 24,
     "metadata": {},
     "output_type": "execute_result"
    }
   ],
   "source": [
    "accuracy_score(ans_all, pre_all)"
   ]
  },
  {
   "cell_type": "code",
   "execution_count": 25,
   "id": "59634fae",
   "metadata": {},
   "outputs": [
    {
     "name": "stdout",
     "output_type": "stream",
     "text": [
      "0.9468782627742184\n"
     ]
    }
   ],
   "source": [
    "print(f1_score(ans_all, pre_all, average='weighted'))"
   ]
  },
  {
   "cell_type": "code",
   "execution_count": 26,
   "id": "b1efa59c",
   "metadata": {},
   "outputs": [],
   "source": [
    "import matplotlib.pyplot as plt"
   ]
  },
  {
   "cell_type": "code",
   "execution_count": 27,
   "id": "bee749e0",
   "metadata": {},
   "outputs": [
    {
     "data": {
      "text/plain": [
       "[<matplotlib.lines.Line2D at 0x1ee0476d0a0>]"
      ]
     },
     "execution_count": 27,
     "metadata": {},
     "output_type": "execute_result"
    },
    {
     "data": {
      "image/png": "[encoded data removed]",
      "text/plain": [
       "<Figure size 432x288 with 1 Axes>"
      ]
     },
     "metadata": {
      "needs_background": "light"
     },
     "output_type": "display_data"
    }
   ],
   "source": [
    "plt.title('Training Process')\n",
    "plt.xlabel('Itearations')\n",
    "plt.ylabel('Loss')\n",
    "plt.grid()\n",
    "plt.plot([loss.item() for loss in losses_train])"
   ]
  },
  {
   "cell_type": "code",
   "execution_count": 28,
   "id": "44528a0d",
   "metadata": {},
   "outputs": [
    {
     "data": {
      "text/plain": [
       "[<matplotlib.lines.Line2D at 0x1ee04988400>]"
      ]
     },
     "execution_count": 28,
     "metadata": {},
     "output_type": "execute_result"
    },
    {
     "data": {
      "image/png": "[encoded data removed]",
      "text/plain": [
       "<Figure size 432x288 with 1 Axes>"
      ]
     },
     "metadata": {
      "needs_background": "light"
     },
     "output_type": "display_data"
    }
   ],
   "source": [
    "plt.title('Training Process')\n",
    "plt.xlabel('Itearations')\n",
    "plt.ylabel('Loss')\n",
    "plt.grid()\n",
    "plt.plot([loss.item() for loss in losses_test])"
   ]
  },
  {
   "cell_type": "code",
   "execution_count": null,
   "id": "fd3189f3",
   "metadata": {},
   "outputs": [],
   "source": []
  },
  {
   "cell_type": "code",
   "execution_count": null,
   "id": "023e1f0a",
   "metadata": {},
   "outputs": [],
   "source": [
    "precheck_sent = prepare_sequence(training_data[0][0], word_to_ix)\n",
    "    print(model(precheck_sent))"
   ]
  },
  {
   "cell_type": "code",
   "execution_count": null,
   "id": "754c69be",
   "metadata": {},
   "outputs": [],
   "source": []
  },
  {
   "cell_type": "code",
   "execution_count": 29,
   "id": "b50e2f43",
   "metadata": {},
   "outputs": [
    {
     "data": {
      "text/plain": [
       "BiLSTM_CRF(\n",
       "  (word_embeds): Embedding(17, 300)\n",
       "  (lstm): LSTM(300, 16, bidirectional=True)\n",
       "  (hidden2tag): Linear(in_features=32, out_features=5, bias=True)\n",
       ")"
      ]
     },
     "execution_count": 29,
     "metadata": {},
     "output_type": "execute_result"
    }
   ],
   "source": [
    "model"
   ]
  },
  {
   "cell_type": "code",
   "execution_count": 35,
   "id": "8cea9bc1",
   "metadata": {},
   "outputs": [
    {
     "data": {
      "text/plain": [
       "2390"
      ]
     },
     "execution_count": 35,
     "metadata": {},
     "output_type": "execute_result"
    }
   ],
   "source": [
    "len(data_for_train[:-600])"
   ]
  },
  {
   "cell_type": "code",
   "execution_count": null,
   "id": "e994109a",
   "metadata": {},
   "outputs": [],
   "source": []
  }
 ],
 "metadata": {
  "kernelspec": {
   "display_name": "Python 3 (ipykernel)",
   "language": "python",
   "name": "python3"
  },
  "language_info": {
   "codemirror_mode": {
    "name": "ipython",
    "version": 3
   },
   "file_extension": ".py",
   "mimetype": "text/x-python",
   "name": "python",
   "nbconvert_exporter": "python",
   "pygments_lexer": "ipython3",
   "version": "3.8.12"
  }
 },
 "nbformat": 4,
 "nbformat_minor": 5
}
