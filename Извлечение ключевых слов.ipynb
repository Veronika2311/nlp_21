{
 "cells": [
  {
   "cell_type": "markdown",
   "metadata": {},
   "source": [
    "# Извлечение ключевых слов"
   ]
  },
  {
   "cell_type": "markdown",
   "metadata": {},
   "source": [
    "## Часть первая. Датасет"
   ]
  },
  {
   "cell_type": "markdown",
   "metadata": {},
   "source": [
    "Нам нужны тексты с ключевыми словами. Мы можем взять датасет со статьями с хабра. Статьи длмнные, но обычно посвящены одной широкой теме или нескольким узким. Возможно, эти данные будет проще анализировать, так как ресурс знакомый и читаемый. Ключевые слова есть, они по большей части описывают использованные технологии или темы\n",
    "<br>\n",
    "Датасет взят вот отсюда: https://github.com/mannefedov/ru_kw_eval_datasets"
   ]
  },
  {
   "cell_type": "code",
   "execution_count": 1,
   "metadata": {},
   "outputs": [],
   "source": [
    "#!pip install jsonlines"
   ]
  },
  {
   "cell_type": "code",
   "execution_count": 2,
   "metadata": {},
   "outputs": [],
   "source": [
    "import re\n",
    "from tqdm import tqdm\n",
    "import jsonlines\n",
    "\n",
    "linelist = []\n",
    "with jsonlines.open('habr_texts.jsonlines') as f:\n",
    "    for obj in f:\n",
    "        linelist.append(obj)"
   ]
  },
  {
   "cell_type": "code",
   "execution_count": 3,
   "metadata": {},
   "outputs": [],
   "source": [
    "#len(linelist)"
   ]
  },
  {
   "cell_type": "code",
   "execution_count": 4,
   "metadata": {},
   "outputs": [],
   "source": [
    "#print(linelist[0])"
   ]
  },
  {
   "cell_type": "markdown",
   "metadata": {},
   "source": [
    "## Часть вторая. Ручная разметка и эталон"
   ]
  },
  {
   "cell_type": "code",
   "execution_count": 5,
   "metadata": {},
   "outputs": [
    {
     "name": "stdout",
     "output_type": "stream",
     "text": [
      "13085\n"
     ]
    }
   ],
   "source": [
    "tokens = 0\n",
    "texts = []\n",
    "keywords_origin = []\n",
    "for i in range(5):\n",
    "    texts.append(linelist[i]['content'])\n",
    "    keywords_origin.append(linelist[i]['keywords'])\n",
    "    tokens += len(linelist[i]['content'].split())\n",
    "print(tokens)"
   ]
  },
  {
   "cell_type": "markdown",
   "metadata": {},
   "source": [
    "Токенов хватает"
   ]
  },
  {
   "cell_type": "code",
   "execution_count": 6,
   "metadata": {},
   "outputs": [],
   "source": [
    "keywords_of_markup = []\n",
    "keywords_of_markup.append(['MassTransit', 'open source', '.NET', 'команды', 'события'])\n",
    "keywords_of_markup.append(['XenForo', 'плагины', 'форумные движки', 'геймификация', 'форум'])\n",
    "keywords_of_markup.append(['Postgresql', 'failover', 'standby', 'master', 'repmgr', 'кластер'])\n",
    "keywords_of_markup.append(['SQL', 'синтаксический анализатор', 'транслятор', '1C', 'Irony'])\n",
    "keywords_of_markup.append(['аудиотехнологии', 'амплитудно-частотные характеристики', 'музыка', 'аудиосистемы', 'наушники'])"
   ]
  },
  {
   "cell_type": "code",
   "execution_count": 7,
   "metadata": {},
   "outputs": [
    {
     "data": {
      "text/html": [
       "<div>\n",
       "<style scoped>\n",
       "    .dataframe tbody tr th:only-of-type {\n",
       "        vertical-align: middle;\n",
       "    }\n",
       "\n",
       "    .dataframe tbody tr th {\n",
       "        vertical-align: top;\n",
       "    }\n",
       "\n",
       "    .dataframe thead th {\n",
       "        text-align: right;\n",
       "    }\n",
       "</style>\n",
       "<table border=\"1\" class=\"dataframe\">\n",
       "  <thead>\n",
       "    <tr style=\"text-align: right;\">\n",
       "      <th></th>\n",
       "      <th>text</th>\n",
       "      <th>original_keywords</th>\n",
       "      <th>markup_keywords</th>\n",
       "    </tr>\n",
       "  </thead>\n",
       "  <tbody>\n",
       "    <tr>\n",
       "      <th>0</th>\n",
       "      <td>MassTransit это open source библиотека, разра...</td>\n",
       "      <td>[.net, rabbitmq, masstransit]</td>\n",
       "      <td>[MassTransit, open source, .NET, команды, собы...</td>\n",
       "    </tr>\n",
       "    <tr>\n",
       "      <th>1</th>\n",
       "      <td>Введение и выбор решения \\r\\nРано или поздно ...</td>\n",
       "      <td>[геймификация, xenforo, форумные движки, форум...</td>\n",
       "      <td>[XenForo, плагины, форумные движки, геймификац...</td>\n",
       "    </tr>\n",
       "    <tr>\n",
       "      <th>2</th>\n",
       "      <td>\\r\\nНа сегодняшний день процедура реализации ...</td>\n",
       "      <td>[postgresq, haproxy, pgbouncer, keepalived, re...</td>\n",
       "      <td>[Postgresql, failover, standby, master, repmgr...</td>\n",
       "    </tr>\n",
       "    <tr>\n",
       "      <th>3</th>\n",
       "      <td>Как часто, программируя очередную бизнес-фичу,...</td>\n",
       "      <td>[irony, .net, c#, грамматический разбор, синта...</td>\n",
       "      <td>[SQL, синтаксический анализатор, транслятор, 1...</td>\n",
       "    </tr>\n",
       "    <tr>\n",
       "      <th>4</th>\n",
       "      <td>Индустрия звука, о которая была у всех на слух...</td>\n",
       "      <td>[аудиомания, мифы и реальность, акустика, ауди...</td>\n",
       "      <td>[аудиотехнологии, амплитудно-частотные характе...</td>\n",
       "    </tr>\n",
       "  </tbody>\n",
       "</table>\n",
       "</div>"
      ],
      "text/plain": [
       "                                                text  \\\n",
       "0   MassTransit это open source библиотека, разра...   \n",
       "1   Введение и выбор решения \\r\\nРано или поздно ...   \n",
       "2   \\r\\nНа сегодняшний день процедура реализации ...   \n",
       "3  Как часто, программируя очередную бизнес-фичу,...   \n",
       "4  Индустрия звука, о которая была у всех на слух...   \n",
       "\n",
       "                                   original_keywords  \\\n",
       "0                      [.net, rabbitmq, masstransit]   \n",
       "1  [геймификация, xenforo, форумные движки, форум...   \n",
       "2  [postgresq, haproxy, pgbouncer, keepalived, re...   \n",
       "3  [irony, .net, c#, грамматический разбор, синта...   \n",
       "4  [аудиомания, мифы и реальность, акустика, ауди...   \n",
       "\n",
       "                                     markup_keywords  \n",
       "0  [MassTransit, open source, .NET, команды, собы...  \n",
       "1  [XenForo, плагины, форумные движки, геймификац...  \n",
       "2  [Postgresql, failover, standby, master, repmgr...  \n",
       "3  [SQL, синтаксический анализатор, транслятор, 1...  \n",
       "4  [аудиотехнологии, амплитудно-частотные характе...  "
      ]
     },
     "execution_count": 7,
     "metadata": {},
     "output_type": "execute_result"
    }
   ],
   "source": [
    "import pandas as pd\n",
    "dataset_of_texts = pd.DataFrame()\n",
    "dataset_of_texts['text'] = texts\n",
    "dataset_of_texts['original_keywords'] = keywords_origin\n",
    "dataset_of_texts['markup_keywords'] = keywords_of_markup\n",
    "dataset_of_texts"
   ]
  },
  {
   "cell_type": "markdown",
   "metadata": {},
   "source": [
    "С одной стороны, размеченные и изначальные ключевые слова похожи и местами совпадают, но не везде. Например, одно и то же слово может быть написано капсом или нет, или это могут быть одинаковые термины из русского и английского. Размеченные слова следуют в основном за технической стороной статьи, тогда как оригинальные могут быть довольно широкими: например, \"мифы и реальность\" или \"бухгалтеры и программисты\". Кроме того, в исходной разметке больше слов, даже если они очень похожи и на ту же тему. Кажется, что наилучшим исходом будет объединение ключевых слов. Итак, объединим."
   ]
  },
  {
   "cell_type": "code",
   "execution_count": 8,
   "metadata": {},
   "outputs": [],
   "source": [
    "keywords_standard = []\n",
    "for i in range(5):\n",
    "    keywords_standard.append(set(keywords_origin[i]) | set(keywords_of_markup[i]))\n",
    "dataset_of_texts['standard_keywords'] = keywords_standard"
   ]
  },
  {
   "cell_type": "code",
   "execution_count": 9,
   "metadata": {},
   "outputs": [
    {
     "data": {
      "text/html": [
       "<div>\n",
       "<style scoped>\n",
       "    .dataframe tbody tr th:only-of-type {\n",
       "        vertical-align: middle;\n",
       "    }\n",
       "\n",
       "    .dataframe tbody tr th {\n",
       "        vertical-align: top;\n",
       "    }\n",
       "\n",
       "    .dataframe thead th {\n",
       "        text-align: right;\n",
       "    }\n",
       "</style>\n",
       "<table border=\"1\" class=\"dataframe\">\n",
       "  <thead>\n",
       "    <tr style=\"text-align: right;\">\n",
       "      <th></th>\n",
       "      <th>text</th>\n",
       "      <th>original_keywords</th>\n",
       "      <th>markup_keywords</th>\n",
       "      <th>standard_keywords</th>\n",
       "    </tr>\n",
       "  </thead>\n",
       "  <tbody>\n",
       "    <tr>\n",
       "      <th>0</th>\n",
       "      <td>MassTransit это open source библиотека, разра...</td>\n",
       "      <td>[.net, rabbitmq, masstransit]</td>\n",
       "      <td>[MassTransit, open source, .NET, команды, собы...</td>\n",
       "      <td>{события, MassTransit, masstransit, open sourc...</td>\n",
       "    </tr>\n",
       "    <tr>\n",
       "      <th>1</th>\n",
       "      <td>Введение и выбор решения \\r\\nРано или поздно ...</td>\n",
       "      <td>[геймификация, xenforo, форумные движки, форум...</td>\n",
       "      <td>[XenForo, плагины, форумные движки, геймификац...</td>\n",
       "      <td>{геймификация, форум, плагины, форумные движки...</td>\n",
       "    </tr>\n",
       "    <tr>\n",
       "      <th>2</th>\n",
       "      <td>\\r\\nНа сегодняшний день процедура реализации ...</td>\n",
       "      <td>[postgresq, haproxy, pgbouncer, keepalived, re...</td>\n",
       "      <td>[Postgresql, failover, standby, master, repmgr...</td>\n",
       "      <td>{postgresq, replication, keepalived, pgbouncer...</td>\n",
       "    </tr>\n",
       "    <tr>\n",
       "      <th>3</th>\n",
       "      <td>Как часто, программируя очередную бизнес-фичу,...</td>\n",
       "      <td>[irony, .net, c#, грамматический разбор, синта...</td>\n",
       "      <td>[SQL, синтаксический анализатор, транслятор, 1...</td>\n",
       "      <td>{грамматический парсер, синтаксический анализа...</td>\n",
       "    </tr>\n",
       "    <tr>\n",
       "      <th>4</th>\n",
       "      <td>Индустрия звука, о которая была у всех на слух...</td>\n",
       "      <td>[аудиомания, мифы и реальность, акустика, ауди...</td>\n",
       "      <td>[аудиотехнологии, амплитудно-частотные характе...</td>\n",
       "      <td>{аудиотехника, музыка, аудиомания, аудиотехнол...</td>\n",
       "    </tr>\n",
       "  </tbody>\n",
       "</table>\n",
       "</div>"
      ],
      "text/plain": [
       "                                                text  \\\n",
       "0   MassTransit это open source библиотека, разра...   \n",
       "1   Введение и выбор решения \\r\\nРано или поздно ...   \n",
       "2   \\r\\nНа сегодняшний день процедура реализации ...   \n",
       "3  Как часто, программируя очередную бизнес-фичу,...   \n",
       "4  Индустрия звука, о которая была у всех на слух...   \n",
       "\n",
       "                                   original_keywords  \\\n",
       "0                      [.net, rabbitmq, masstransit]   \n",
       "1  [геймификация, xenforo, форумные движки, форум...   \n",
       "2  [postgresq, haproxy, pgbouncer, keepalived, re...   \n",
       "3  [irony, .net, c#, грамматический разбор, синта...   \n",
       "4  [аудиомания, мифы и реальность, акустика, ауди...   \n",
       "\n",
       "                                     markup_keywords  \\\n",
       "0  [MassTransit, open source, .NET, команды, собы...   \n",
       "1  [XenForo, плагины, форумные движки, геймификац...   \n",
       "2  [Postgresql, failover, standby, master, repmgr...   \n",
       "3  [SQL, синтаксический анализатор, транслятор, 1...   \n",
       "4  [аудиотехнологии, амплитудно-частотные характе...   \n",
       "\n",
       "                                   standard_keywords  \n",
       "0  {события, MassTransit, masstransit, open sourc...  \n",
       "1  {геймификация, форум, плагины, форумные движки...  \n",
       "2  {postgresq, replication, keepalived, pgbouncer...  \n",
       "3  {грамматический парсер, синтаксический анализа...  \n",
       "4  {аудиотехника, музыка, аудиомания, аудиотехнол...  "
      ]
     },
     "execution_count": 9,
     "metadata": {},
     "output_type": "execute_result"
    }
   ],
   "source": [
    "dataset_of_texts"
   ]
  },
  {
   "cell_type": "markdown",
   "metadata": {},
   "source": [
    "Чудесно, всё объединилось.  А теперь можно попробовать методы автоматического ввыделения ключевых слов"
   ]
  },
  {
   "cell_type": "markdown",
   "metadata": {},
   "source": [
    "## Часть третья. Автоматическое выделение ключевых слов"
   ]
  },
  {
   "cell_type": "markdown",
   "metadata": {},
   "source": [
    "Для каждого метода поставлено ограничение по весу слова, чтобы в ключевые слов не попадало слишком много. Выставлено приблизительным подбором, чтобы слов в каждый текст попадало не слишком много. Можно было бы сказать \"обязательно по 10 слов\", например, но кажется, что так лучше -- на хабре у разных статей разное количество ключевых слов"
   ]
  },
  {
   "cell_type": "markdown",
   "metadata": {},
   "source": [
    "### Препроцессинг"
   ]
  },
  {
   "cell_type": "markdown",
   "metadata": {},
   "source": [
    "И здесь-то нас и подстерегают все сложности, которые есть у этого датасета. Он одновременно на русском, с использованием некоторых английских терминов, которые при этом являются основополагающими, да ещё и с добавлением кода, который, конечно, вряд ли должен быть в ключевых словах -- но вот незадача, он местами очень похож на английский! Так что ждут нас проблемы и наши тексты весьма сложно формализуемы."
   ]
  },
  {
   "cell_type": "code",
   "execution_count": 10,
   "metadata": {},
   "outputs": [
    {
     "name": "stderr",
     "output_type": "stream",
     "text": [
      "2021-11-07 21:38:43 INFO: Loading these models for language: ru (Russian):\n",
      "=========================\n",
      "| Processor | Package   |\n",
      "-------------------------\n",
      "| tokenize  | syntagrus |\n",
      "| pos       | syntagrus |\n",
      "| lemma     | syntagrus |\n",
      "=========================\n",
      "\n",
      "2021-11-07 21:38:43 INFO: Use device: cpu\n",
      "2021-11-07 21:38:43 INFO: Loading: tokenize\n",
      "2021-11-07 21:38:43 INFO: Loading: pos\n",
      "2021-11-07 21:38:46 INFO: Loading: lemma\n",
      "2021-11-07 21:38:47 INFO: Done loading processors!\n",
      "2021-11-07 21:38:47 INFO: Loading these models for language: en (English):\n",
      "========================\n",
      "| Processor | Package  |\n",
      "------------------------\n",
      "| tokenize  | combined |\n",
      "| pos       | combined |\n",
      "| lemma     | combined |\n",
      "========================\n",
      "\n",
      "2021-11-07 21:38:47 INFO: Use device: cpu\n",
      "2021-11-07 21:38:47 INFO: Loading: tokenize\n",
      "2021-11-07 21:38:47 INFO: Loading: pos\n",
      "2021-11-07 21:38:50 INFO: Loading: lemma\n",
      "2021-11-07 21:38:50 INFO: Done loading processors!\n"
     ]
    }
   ],
   "source": [
    "import stanza\n",
    "#stanza.download('ru')\n",
    "#stanza.download('en')\n",
    "\n",
    "nlp_ru = stanza.Pipeline(lang='ru', processors='tokenize,lemma,pos')\n",
    "nlp_en = stanza.Pipeline(lang='en', processors='tokenize,lemma,pos')"
   ]
  },
  {
   "cell_type": "code",
   "execution_count": 11,
   "metadata": {},
   "outputs": [],
   "source": [
    "def prepocess(text, nlp):\n",
    "    doc = nlp(text)\n",
    "    stops = ['ADP', 'AUX', 'CCONJ', 'DET', 'INTJ', 'PART', 'PUNCT', 'SCONJ']\n",
    "    final_text = []\n",
    "    for sent in doc.sentences:\n",
    "        sent_list = []\n",
    "        count_foreing = 0\n",
    "        for word in sent.words:\n",
    "            #print(word)\n",
    "            if word.upos not in stops:\n",
    "                if not re.search('[1234567890\\\\\\/&{}_]+?', word.text):\n",
    "                    sent_list.append(word.lemma.lower())\n",
    "                if word.feats:\n",
    "                    if 'Foreign=Yes' in word.feats:\n",
    "                        count_foreing += 1\n",
    "                    \n",
    "        if count_foreing < 10:\n",
    "            final_text.extend(sent_list)\n",
    "    return ' '.join(final_text)"
   ]
  },
  {
   "cell_type": "markdown",
   "metadata": {},
   "source": [
    "Что тут, собственно, происходит.  Мы берём текст, и для каждого предложения смотрим, а не код ли оно. Если в предложении меньше десяти английских слов, то ладно, не код.\n",
    "Мы можем так задеть какие-то части предложений или, наоборот, оставить маленькие кусочки кода, но в целом ситуация должна стать лучше"
   ]
  },
  {
   "cell_type": "code",
   "execution_count": 12,
   "metadata": {},
   "outputs": [
    {
     "name": "stderr",
     "output_type": "stream",
     "text": [
      "100%|████████████████████████████████████████████████████████████████████████████████████| 5/5 [04:41<00:00, 56.23s/it]\n"
     ]
    }
   ],
   "source": [
    "#будет небыстро, это stanza\n",
    "clean_texts = []\n",
    "for text in tqdm(dataset_of_texts['text']):\n",
    "    clean_texts.append(prepocess(text, nlp_ru))\n",
    "clean_keywords = []\n",
    "for stand_keywords in dataset_of_texts['standard_keywords']:\n",
    "    words = []\n",
    "    for word in stand_keywords:\n",
    "        preprocessed_word = prepocess(word, nlp_ru)\n",
    "        if preprocessed_word != '':\n",
    "            words.append(preprocessed_word)\n",
    "    clean_keywords.append(words)"
   ]
  },
  {
   "cell_type": "code",
   "execution_count": 13,
   "metadata": {},
   "outputs": [],
   "source": [
    "clean_texts_keywords = pd.DataFrame()\n",
    "clean_texts_keywords['texts'] = clean_texts\n",
    "clean_texts_keywords['standard_keywords'] = clean_keywords"
   ]
  },
  {
   "cell_type": "markdown",
   "metadata": {},
   "source": [
    "### RAKE"
   ]
  },
  {
   "cell_type": "code",
   "execution_count": 14,
   "metadata": {},
   "outputs": [],
   "source": [
    "import RAKE\n",
    "import nltk\n",
    "#nltk.download('stopwords')\n",
    "from nltk.corpus import stopwords"
   ]
  },
  {
   "cell_type": "code",
   "execution_count": 15,
   "metadata": {},
   "outputs": [],
   "source": [
    "stop = stopwords.words('russian')"
   ]
  },
  {
   "cell_type": "code",
   "execution_count": 16,
   "metadata": {},
   "outputs": [],
   "source": [
    "rake = RAKE.Rake(stop)"
   ]
  },
  {
   "cell_type": "code",
   "execution_count": 17,
   "metadata": {},
   "outputs": [
    {
     "data": {
      "text/plain": [
       "[[('получить сообщение', 4.0),\n",
       "  ('выбор консьюмер', 4.0),\n",
       "  ('статья рассказать', 4.0),\n",
       "  ('newline console', 4.0),\n",
       "  ('находиться имплементация', 4.0),\n",
       "  ('схожий имплементация', 4.0),\n",
       "  ('write', 1.0),\n",
       "  ('environment', 1.0),\n",
       "  ('start', 1.0)],\n",
       " [('бывать коммерческий', 4.0),\n",
       "  ('поле низко', 4.0),\n",
       "  ('интерес представлять', 4.0),\n",
       "  ('создавать включая', 4.0),\n",
       "  ('важный первый', 4.0),\n",
       "  ('определить трофей', 4.0),\n",
       "  ('пробовать оценить', 4.0),\n",
       "  ('далее', 1.0),\n",
       "  ('таба', 1.0),\n",
       "  ('комбинировать', 1.0),\n",
       "  ('видный', 1.0),\n",
       "  ('детально', 1.0)],\n",
       " [('мастер-нод восстановление', 9.0),\n",
       "  ('интернет вроде', 4.0),\n",
       "  ('это необходимый', 4.0),\n",
       "  ('мочь оказаться', 4.0),\n",
       "  ('хост выдавать', 4.0),\n",
       "  ('conf postgresql', 4.0),\n",
       "  ('grep repmgrd', 4.0),\n",
       "  ('sh telegram', 4.0),\n",
       "  ('sh сохраниться', 4.0),\n",
       "  ('установить заранее', 4.0),\n",
       "  ('ip addr', 4.0),\n",
       "  ('конфига видно', 4.0),\n",
       "  ('перейти подключение', 4.0),\n",
       "  ('настраивать ip', 4.0),\n",
       "  ('крона например', 4.0),\n",
       "  ('нода например', 3.5),\n",
       "  ('видеть код', 3.25),\n",
       "  ('нода', 1.5),\n",
       "  ('видеть', 1.25),\n",
       "  ('немаловажный', 1.0),\n",
       "  ('дальнейший', 1.0),\n",
       "  ('ситуация', 1.0),\n",
       "  ('повторить', 1.0),\n",
       "  ('auto', 1.0),\n",
       "  ('нормальный', 1.0),\n",
       "  ('работать', 1.0),\n",
       "  ('также', 1.0),\n",
       "  ('метод', 1.0),\n",
       "  ('нужный', 1.0),\n",
       "  ('позволять', 1.0),\n",
       "  ('‘ failed', 1.0),\n",
       "  ('insert', 1.0),\n",
       "  ('пользователь', 1.0),\n",
       "  ('стоить', 1.0),\n",
       "  ('разобраться', 1.0)],\n",
       " [('сводиться перекладывание', 4.0),\n",
       "  ('таблица бд', 4.0),\n",
       "  ('заниматься что-', 4.0),\n",
       "  ('бессонный цейтнот', 4.0),\n",
       "  ('табличка документ', 4.0),\n",
       "  ('функция получитьстраненбазыдениябданиянный', 4.0),\n",
       "  ('возвращать информация', 4.0),\n",
       "  ('заменять имя', 4.0),\n",
       "  ('ряд преобразование', 4.0),\n",
       "  ('разбить процесс', 4.0),\n",
       "  ('sql момент', 4.0),\n",
       "  ('осознать это', 4.0),\n",
       "  ('структура данные', 4.0),\n",
       "  ('пристальный взгляд', 4.0),\n",
       "  ('правило грамматика', 4.0),\n",
       "  ('обработать astnodecreator', 4.0),\n",
       "  ('мочь пользоваться', 4.0),\n",
       "  ('большой вопрос', 4.0),\n",
       "  ('задача допустить', 4.0),\n",
       "  ('метод узел', 4.0),\n",
       "  ('делать недавно', 3.5),\n",
       "  ('клиент данные', 3.5),\n",
       "  ('делать', 1.5),\n",
       "  ('клиент', 1.5),\n",
       "  ('ловить', 1.0),\n",
       "  ('мысль', 1.0),\n",
       "  ('рассказать', 1.0),\n",
       "  ('начаться', 1.0),\n",
       "  ('задуматься', 1.0),\n",
       "  ('жед', 1.0),\n",
       "  ('организация', 1.0),\n",
       "  ('контрагент', 1.0),\n",
       "  ('полезный', 1.0),\n",
       "  ('выглядеть', 1.0),\n",
       "  ('понятный', 1.0),\n",
       "  ('видеть', 1.0),\n",
       "  ('рассмотреть', 1.0),\n",
       "  ('язык', 1.0)],\n",
       " [('сайт аудиомания', 4.0),\n",
       "  ('усилить особенно', 4.0),\n",
       "  ('полный катушка', 4.0),\n",
       "  ('» поэтому', 1.0),\n",
       "  ('удивляться', 1.0),\n",
       "  ('что-', 1.0),\n",
       "  ('нужный', 1.0),\n",
       "  ('убедить', 1.0),\n",
       "  ('s', 1.0)]]"
      ]
     },
     "execution_count": 17,
     "metadata": {},
     "output_type": "execute_result"
    }
   ],
   "source": [
    "rake_res = []\n",
    "for text in clean_texts_keywords['texts']:\n",
    "    text_res = []\n",
    "    kw_list = rake.run(text, maxWords=2, minFrequency=1)\n",
    "    for el in kw_list:\n",
    "        if el[1] > 0:\n",
    "            text_res.append(el)\n",
    "    rake_res.append(text_res)\n",
    "clean_texts_keywords['rake'] = rake_res\n",
    "rake_res"
   ]
  },
  {
   "cell_type": "code",
   "execution_count": null,
   "metadata": {},
   "outputs": [],
   "source": []
  },
  {
   "cell_type": "markdown",
   "metadata": {},
   "source": [
    "### TextRank"
   ]
  },
  {
   "cell_type": "code",
   "execution_count": 18,
   "metadata": {},
   "outputs": [],
   "source": [
    "from summa import keywords"
   ]
  },
  {
   "cell_type": "code",
   "execution_count": 19,
   "metadata": {},
   "outputs": [
    {
     "data": {
      "text/plain": [
       "[[('сообщение', 0.37372780733073396),\n",
       "  ('консьюмер', 0.21694473153211707),\n",
       "  ('тип', 0.19349401048401066),\n",
       "  ('команда событие', 0.19002909437854149),\n",
       "  ('exchange', 0.178654008862924),\n",
       "  ('использовать', 0.1508095810045571),\n",
       "  ('наименование', 0.13086391570503952),\n",
       "  ('процесс который', 0.1261816464383145),\n",
       "  ('код', 0.11518649109884217),\n",
       "  ('случай', 0.10800879901922156),\n",
       "  ('конфигурация контейнер', 0.1033046983403988),\n",
       "  ('masstransit', 0.10244018287209909),\n",
       "  ('следующий', 0.09473694013866121),\n",
       "  ('документация', 0.09048382505464365),\n",
       "  ('обработка', 0.09001512272063948),\n",
       "  ('метод publish интерфейс', 0.08980450439736458),\n",
       "  ('данные', 0.08885155106174701),\n",
       "  ('данный', 0.08885155106174701),\n",
       "  ('bus', 0.08142726608297576),\n",
       "  ('await', 0.08131099763786405),\n",
       "  ('имя', 0.08053156440669765),\n",
       "  ('качество message', 0.08002436234844718)],\n",
       " [('система трофей', 0.3204399314731482),\n",
       "  ('пользователь', 0.20697203966901426),\n",
       "  ('badge', 0.16267262333176122),\n",
       "  ('плагина', 0.1548200247713522),\n",
       "  ('критерий', 0.14641285640072538),\n",
       "  ('трофея', 0.13594992779793155),\n",
       "  ('уровень', 0.12539665387344257),\n",
       "  ('level', 0.1250261220332744),\n",
       "  ('сообщество форум привлечение', 0.12042101507299702),\n",
       "  ('таб', 0.12028208993237652),\n",
       "  ('таба', 0.12028208993237652),\n",
       "  ('иметь', 0.1145807619810372),\n",
       "  ('иметься', 0.1145807619810372),\n",
       "  ('важный', 0.10845704285712811),\n",
       "  ('геймификация', 0.10210409996126112),\n",
       "  ('плагин стиль', 0.10157408757775409),\n",
       "  ('xenforo', 0.09985933064149206),\n",
       "  ('это', 0.09554355578832788),\n",
       "  ('решение рано', 0.09518265765828962),\n",
       "  ('количество', 0.09313828540665725),\n",
       "  ('следующий', 0.08320682475466187)],\n",
       " [('нода', 0.30096812238258275),\n",
       "  ('ноды', 0.30096812238258275),\n",
       "  ('нодь', 0.30096812238258275),\n",
       "  ('нод', 0.30096812238258275),\n",
       "  ('данный', 0.2257329594634122),\n",
       "  ('скрыть текст', 0.1920927417677822),\n",
       "  ('каталог данные', 0.1402464217318245),\n",
       "  ('пользователь postgres', 0.11712499674608298),\n",
       "  ('который', 0.11544850039155595),\n",
       "  ('скрипт', 0.11534473693851512),\n",
       "  ('это', 0.10980657211857996),\n",
       "  ('мочь', 0.10947407964228964),\n",
       "  ('failover postgresql', 0.10796552254947639),\n",
       "  ('база master', 0.10688386261735823),\n",
       "  ('имя файл pghost', 0.10471033164194443),\n",
       "  ('конфига', 0.09682639490653742),\n",
       "  ('необходимый', 0.09662231140368924),\n",
       "  ('необходимость', 0.09662231140368924),\n",
       "  ('уведомление использовать', 0.09481179016874242),\n",
       "  ('сервер настроить подключение', 0.09451979735375841),\n",
       "  ('случай отказ текущий мастер', 0.09052691744159708),\n",
       "  ('работа кластер', 0.08754343976506541),\n",
       "  ('делать', 0.08357714154263411),\n",
       "  ('pgbouncer', 0.08212002630964707),\n",
       "  ('ключ', 0.08121919119704529),\n",
       "  ('порт', 0.0805629019268617)],\n",
       " [('узел', 0.1687500170866756),\n",
       "  ('язык запрос транслятор обычный sql это позволить', 0.1349637015200026),\n",
       "  ('tree ast', 0.1292181750953298),\n",
       "  ('делать', 0.1221000962759958),\n",
       "  ('кода', 0.12131693863635554),\n",
       "  ('нужный', 0.11857150525542283),\n",
       "  ('задача', 0.11142137474981323),\n",
       "  ('грамматик', 0.10445687984262944),\n",
       "  ('правило', 0.102265090953388),\n",
       "  ('правый', 0.102265090953388),\n",
       "  ('человек который писать база данные', 0.0998553182177885),\n",
       "  ('исходный код', 0.09559300156168873),\n",
       "  ('результат решение', 0.09196208390810115),\n",
       "  ('бухгалтер', 0.09109085168287084),\n",
       "  ('бухгалтерия', 0.09109085168287084),\n",
       "  ('стать', 0.08751119826141614),\n",
       "  ('статья', 0.08751119826141614),\n",
       "  ('конструкция', 0.08713578821682122),\n",
       "  ('свойство например', 0.08695326282916703),\n",
       "  ('regexp получиться', 0.08506128113664055),\n",
       "  ('документ', 0.0800880429061173),\n",
       "  ('пример', 0.08006197997167012)],\n",
       " [('звук который', 0.2044702034863903),\n",
       "  ('система', 0.19009798864268804),\n",
       "  ('мочь', 0.17231472890975622),\n",
       "  ('использовать', 0.1671125446608618),\n",
       "  ('аудиотехника', 0.15848217180162746),\n",
       "  ('усилитель', 0.15572529055440026),\n",
       "  ('звучание', 0.1419316762343802),\n",
       "  ('профессиональный', 0.13014650881011902),\n",
       "  ('это', 0.12385403119973329),\n",
       "  ('акустика наушник характеристика дело', 0.11474612423679216),\n",
       "  ('ответ', 0.10681786987043808),\n",
       "  ('ответить', 0.10681786987043808),\n",
       "  ('устройство', 0.10060671772597592),\n",
       "  ('дорогой', 0.0968279232005218),\n",
       "  ('иной аудиосистема', 0.0964889639870559),\n",
       "  ('обычный', 0.09469762839738721),\n",
       "  ('обычно', 0.09469762839738721),\n",
       "  ('качественный', 0.08834102938059243),\n",
       "  ('стоить', 0.0873101355720996),\n",
       "  ('качество', 0.08647202457501563),\n",
       "  ('задача', 0.08249479497461747),\n",
       "  ('специальный', 0.08137428931477646),\n",
       "  ('вредный', 0.08109254836173534),\n",
       "  ('вредний', 0.08109254836173534),\n",
       "  ('цап', 0.0810607416636269)]]"
      ]
     },
     "execution_count": 19,
     "metadata": {},
     "output_type": "execute_result"
    }
   ],
   "source": [
    "textrank_res = []\n",
    "for text in clean_texts_keywords['texts']:\n",
    "    text_res = []\n",
    "    kw_list = keywords.keywords(text, language='russian', additional_stopwords=stop, scores=True)\n",
    "    for el in kw_list:\n",
    "        if el[1] > 0.08:\n",
    "            text_res.append(el)\n",
    "    textrank_res.append(text_res)\n",
    "clean_texts_keywords['textrank'] = textrank_res\n",
    "textrank_res"
   ]
  },
  {
   "cell_type": "markdown",
   "metadata": {},
   "source": [
    "### Tf-Idf"
   ]
  },
  {
   "cell_type": "code",
   "execution_count": 20,
   "metadata": {},
   "outputs": [],
   "source": [
    "from sklearn.feature_extraction.text import TfidfVectorizer\n",
    "import numpy as np"
   ]
  },
  {
   "cell_type": "code",
   "execution_count": 49,
   "metadata": {},
   "outputs": [
    {
     "data": {
      "text/plain": [
       "[[('endpoint', 0.10748105307330351),\n",
       "  ('exchange', 0.21496210614660702),\n",
       "  ('masstransit', 0.1343513163416294),\n",
       "  ('publish', 0.10748105307330351),\n",
       "  ('send', 0.10748105307330351),\n",
       "  ('интерфейс', 0.10748105307330351),\n",
       "  ('команда', 0.2339392701319992),\n",
       "  ('консьюмер', 0.2687026326832588),\n",
       "  ('контейнер', 0.10748105307330351),\n",
       "  ('конфигурация', 0.1083937960797493),\n",
       "  ('наименование', 0.1343513163416294),\n",
       "  ('они', 0.10596766334253696),\n",
       "  ('отправка', 0.1083937960797493),\n",
       "  ('смс', 0.10748105307330351),\n",
       "  ('событие', 0.23846635137544847),\n",
       "  ('сообщение', 0.4986114619668468),\n",
       "  ('тип', 0.15138237620362424)],\n",
       " [('badge', 0.24377269691433537),\n",
       "  ('level', 0.12188634845716768),\n",
       "  ('step', 0.1044740129632866),\n",
       "  ('xenforo', 0.1044740129632866),\n",
       "  ('геймификация', 0.1044740129632866),\n",
       "  ('достижение', 0.1044740129632866),\n",
       "  ('количество', 0.1044740129632866),\n",
       "  ('критерий', 0.2089480259265732),\n",
       "  ('пользователь', 0.16857795167380396),\n",
       "  ('система', 0.15695689742947014),\n",
       "  ('сообщество', 0.12188634845716768),\n",
       "  ('таб', 0.13929868395104877),\n",
       "  ('трофей', 0.5920194067919573),\n",
       "  ('трофея', 0.174123354938811),\n",
       "  ('уровень', 0.13929868395104877),\n",
       "  ('форум', 0.2089480259265732)],\n",
       " [('pghost', 0.16333476828697313),\n",
       "  ('postgres', 0.27862989884248357),\n",
       "  ('postgresql', 0.11627423171876408),\n",
       "  ('repmgr', 0.1537268407406806),\n",
       "  ('standby', 0.16333476828697313),\n",
       "  ('su', 0.10568720300921791),\n",
       "  ('кластер', 0.1537268407406806),\n",
       "  ('мастер', 0.2594140437498985),\n",
       "  ('мы', 0.1190339528423071),\n",
       "  ('нода', 0.2594140437498985),\n",
       "  ('сервер', 0.14728069351043452),\n",
       "  ('скрипт', 0.10568720300921791),\n",
       "  ('скрыть', 0.37207754150004513),\n",
       "  ('текст', 0.37207754150004513),\n",
       "  ('файл', 0.16333476828697313)],\n",
       " [('ast', 0.2959134022754096),\n",
       "  ('irony', 0.10292640079144681),\n",
       "  ('regexp', 0.11579220089037767),\n",
       "  ('sql', 0.16725540128610109),\n",
       "  ('база', 0.11201289152815992),\n",
       "  ('грамматика', 0.12865800098930852),\n",
       "  ('запрос', 0.2412585355991137),\n",
       "  ('исходный', 0.11418051161167786),\n",
       "  ('который', 0.12261245365237203),\n",
       "  ('метод', 0.11201289152815992),\n",
       "  ('мы', 0.23909428462212545),\n",
       "  ('нужный', 0.10147714295921938),\n",
       "  ('правило', 0.10339651525676301),\n",
       "  ('свойство', 0.11418051161167786),\n",
       "  ('то', 0.10422058560451623),\n",
       "  ('узел', 0.20760093020305068),\n",
       "  ('это', 0.18391868047855806),\n",
       "  ('язык', 0.20585280158289362)],\n",
       " [('акустический', 0.10532637462606463),\n",
       "  ('аудиомания', 0.10532637462606463),\n",
       "  ('аудиосистема', 0.10532637462606463),\n",
       "  ('аудиотехника', 0.1843211555956131),\n",
       "  ('внутриканальный', 0.1316579682825808),\n",
       "  ('домашний', 0.10532637462606463),\n",
       "  ('дорогой', 0.10532637462606463),\n",
       "  ('звук', 0.2896475302216777),\n",
       "  ('звучание', 0.15798956193909694),\n",
       "  ('использовать', 0.11292430916767775),\n",
       "  ('качественный', 0.10532637462606463),\n",
       "  ('который', 0.11292430916767775),\n",
       "  ('мочь', 0.11292430916767775),\n",
       "  ('наушник', 0.34231071753471004),\n",
       "  ('профессиональный', 0.1843211555956131),\n",
       "  ('система', 0.1631823661294574),\n",
       "  ('то', 0.11292430916767775),\n",
       "  ('усилитель', 0.1843211555956131),\n",
       "  ('устройство', 0.10532637462606463),\n",
       "  ('цап', 0.10532637462606463)]]"
      ]
     },
     "execution_count": 49,
     "metadata": {},
     "output_type": "execute_result"
    }
   ],
   "source": [
    "tfidf_vectorizer = TfidfVectorizer(use_idf=True, norm='l2')\n",
    "X_tfidf = tfidf_vectorizer.fit_transform(clean_texts_keywords['texts']).toarray()\n",
    "vocabulary = tfidf_vectorizer.get_feature_names()\n",
    "\n",
    "tfidf_result = []\n",
    "for words_of_text in X_tfidf:\n",
    "    text_words = []\n",
    "    for i, word_w in enumerate(words_of_text):\n",
    "        if word_w > 0.1:\n",
    "            text_words.append((vocabulary[i], word_w))\n",
    "    tfidf_result.append(text_words)\n",
    "clean_texts_keywords['tfidf'] = tfidf_result\n",
    "\n",
    "tfidf_result"
   ]
  },
  {
   "cell_type": "markdown",
   "metadata": {},
   "source": [
    "## Часть четвёртая. Морфологические и синтаксические шаблоны"
   ]
  },
  {
   "cell_type": "markdown",
   "metadata": {},
   "source": [
    "Давайте посмотрим на наши эталонные списки"
   ]
  },
  {
   "cell_type": "code",
   "execution_count": 22,
   "metadata": {},
   "outputs": [
    {
     "name": "stdout",
     "output_type": "stream",
     "text": [
      "['событие', 'masstransit', 'masstransit', 'open source', '.net', 'rabbitms', 'net', 'команда']\n",
      "['геймификация', 'форум', 'плагин', 'форумный движок', 'xenforo', 'gamification', 'xenforo', 'привлечение пользователь']\n",
      "['postgresq', 'replication', 'keepalived', 'pgbouncer', 'cluster', 'ha', 'standby', 'haproxy', 'master', 'postgresql', 'кластер', 'failover', 'repmgr']\n",
      "['грамматический парсер', 'синтаксический анализатор', 'синтаксический анализ', 'irony', '.net', 'бухгалтерия программист', 'sql', 'анализатор код', 'бухгалтерия', 'грамматический разбор', 'регулярный выражение', 'грамматика', 'кт', 'regexp', 'sql', 'транслятор', 'irony']\n",
      "['аудиотехника', 'музыка', 'аудиомание', 'аудиотехнология', 'акустика', 'аудиосистема', 'амплитудный частотный характеристика', 'наушник', 'миф реальность']\n"
     ]
    }
   ],
   "source": [
    "for i in range(5):\n",
    "    print(clean_texts_keywords['standard_keywords'][i])"
   ]
  },
  {
   "cell_type": "markdown",
   "metadata": {},
   "source": [
    "Вроде видно паттерны. Основные -- Noun, Adj + Noun, PNoun, Noun + Noun. Однако это информация на глаз, а хорошо бы проверить с помощью такого же парсера, как и тот, которым будут размечаться тексты. Есть проблема -- русский и английский вместе. Было бы здорово, конечно, использовать какую-нибудь мультиязычную модель, но сначала давайте попробуем что-нибудь попроще. Если бы перед нами стоялазадача обработать текст, было бы, конечно, сложнее. Здесь можно попробовать всё, что содержит кириллицу, отдать парсеру для русского языка, а всё, что содержит латиницу -- парсеру для английского"
   ]
  },
  {
   "cell_type": "code",
   "execution_count": 28,
   "metadata": {},
   "outputs": [],
   "source": [
    "def is_pattern(text, nlp, patterns):\n",
    "    doc = nlp(text)\n",
    "    stops = ['ADP', 'AUX', 'CCONJ', 'DET', 'INTJ', 'PART', 'PUNCT', 'SCONJ']\n",
    "    pattern = []\n",
    "    for sent in doc.sentences:\n",
    "        for word in sent.words:\n",
    "            if re.search('[\\\\\\/&{}]+?', word.text):\n",
    "                break\n",
    "            else:\n",
    "                if  word.upos not in stops:\n",
    "                    pattern.append(word.upos)\n",
    "    #print(pattern)          \n",
    "    if pattern in patterns:\n",
    "        return True\n",
    "    else:\n",
    "        return False"
   ]
  },
  {
   "cell_type": "code",
   "execution_count": 24,
   "metadata": {},
   "outputs": [],
   "source": [
    "pattern_res = {}\n",
    "patterns_en = [['PROPN'], ['PROPN', 'PROPN'], ['NOUN']]\n",
    "patterns_ru = [['ADJ', 'NOUN'], ['NOUN', 'NOUN'], ['ADJ', 'ADJ', 'NOUN'], ['NOUN']]"
   ]
  },
  {
   "cell_type": "code",
   "execution_count": 25,
   "metadata": {},
   "outputs": [],
   "source": [
    "def pattern_keywords(keywords, nlp_en=nlp_en, patterns_en=patterns_en, nlp_ru=nlp_ru, patterns_ru=patterns_ru):\n",
    "    all_text_filter = []\n",
    "    for text_keywords in keywords:\n",
    "        text_keywords_filter = []\n",
    "        for word in text_keywords:\n",
    "            flag = False\n",
    "            if re.search('[A-Za-z]+?', word[0]):\n",
    "                flag = is_pattern(word[0], nlp_en, patterns_en)\n",
    "            if re.search('[А-Яа-яЁё]+?', word[0]):\n",
    "                flag = is_pattern(word[0], nlp_ru, patterns_ru)\n",
    "            if flag is True:\n",
    "                #print(word)\n",
    "                text_keywords_filter.append(word)\n",
    "        all_text_filter.append(text_keywords_filter)\n",
    "    return all_text_filter"
   ]
  },
  {
   "cell_type": "code",
   "execution_count": 29,
   "metadata": {},
   "outputs": [
    {
     "data": {
      "text/plain": [
       "0    [(выбор консьюмер, 4.0), (схожий имплементация...\n",
       "1                                        [(таба, 1.0)]\n",
       "2    [(conf postgresql, 4.0), (grep repmgrd, 4.0), ...\n",
       "3    [(таблица бд, 4.0), (бессонный цейтнот, 4.0), ...\n",
       "4    [(сайт аудиомания, 4.0), (полный катушка, 4.0)...\n",
       "Name: rake_patterns, dtype: object"
      ]
     },
     "execution_count": 29,
     "metadata": {},
     "output_type": "execute_result"
    }
   ],
   "source": [
    "clean_texts_keywords['rake_patterns'] = pattern_keywords(clean_texts_keywords['rake'])\n",
    "clean_texts_keywords['rake_patterns']"
   ]
  },
  {
   "cell_type": "code",
   "execution_count": 30,
   "metadata": {},
   "outputs": [
    {
     "data": {
      "text/plain": [
       "0    [(сообщение, 0.37372780733073396), (консьюмер,...\n",
       "1    [(система трофей, 0.3204399314731482), (пользо...\n",
       "2    [(нода, 0.30096812238258275), (ноды, 0.3009681...\n",
       "3    [(узел, 0.1687500170866756), (кода, 0.12131693...\n",
       "4    [(система, 0.19009798864268804), (мочь, 0.1723...\n",
       "Name: textrank_patterns, dtype: object"
      ]
     },
     "execution_count": 30,
     "metadata": {},
     "output_type": "execute_result"
    }
   ],
   "source": [
    "clean_texts_keywords['textrank_patterns'] = pattern_keywords(clean_texts_keywords['textrank'])\n",
    "clean_texts_keywords['textrank_patterns']"
   ]
  },
  {
   "cell_type": "code",
   "execution_count": 31,
   "metadata": {},
   "outputs": [
    {
     "data": {
      "text/plain": [
       "0    [(endpoint, 0.10748105307330351), (exchange, 0...\n",
       "1    [(badge, 0.24377269691433537), (level, 0.12188...\n",
       "2    [(pghost, 0.16333476828697313), (postgres, 0.2...\n",
       "3    [(ast, 0.2959134022754096), (irony, 0.10292640...\n",
       "4    [(аудиомания, 0.10532637462606463), (аудиосист...\n",
       "Name: tfidf_patterns, dtype: object"
      ]
     },
     "execution_count": 31,
     "metadata": {},
     "output_type": "execute_result"
    }
   ],
   "source": [
    "clean_texts_keywords['tfidf_patterns'] = pattern_keywords(clean_texts_keywords['tfidf'])\n",
    "clean_texts_keywords['tfidf_patterns']"
   ]
  },
  {
   "cell_type": "markdown",
   "metadata": {},
   "source": [
    "## Часть пятая. Точность, полнота, F-мера"
   ]
  },
  {
   "cell_type": "code",
   "execution_count": 32,
   "metadata": {},
   "outputs": [],
   "source": [
    "def precision(tp, fp):\n",
    "    return tp / (tp + fp)    \n",
    "\n",
    "\n",
    "def recall(tp, fn):\n",
    "    return tp / (tp + fn)\n",
    "\n",
    "\n",
    "def f_score(tp, fp, fn):\n",
    "    p = precision(tp, fp)\n",
    "    r = recall(tp, fn)\n",
    "    return 2*(p*r)/(p+r)"
   ]
  },
  {
   "cell_type": "code",
   "execution_count": 33,
   "metadata": {},
   "outputs": [],
   "source": [
    "def count_results(standard_keywords, auto_keywords):\n",
    "    true_positive = 0\n",
    "    false_positive = 0\n",
    "    false_negative = 0\n",
    "    for i, text in enumerate(auto_keywords):\n",
    "        for word in text:\n",
    "            if word[0] in standard_keywords[i]:\n",
    "                true_positive += 1\n",
    "            else:\n",
    "                false_positive += 1\n",
    "    for i, text in enumerate(standard_keywords):\n",
    "        for word in text:\n",
    "            if word not in [lemm_tuple[0] for lemm_tuple in auto_keywords[i]]:\n",
    "                false_negative += 1\n",
    "            \n",
    "    #print(true_positive, false_positive, false_negative)\n",
    "    if true_positive != 0:\n",
    "        print('precision:', precision(true_positive, false_positive))\n",
    "        print('recall:', recall(true_positive, false_negative))\n",
    "        print('f_score:', f_score(true_positive, false_positive, false_negative))\n",
    "    else:\n",
    "        print('Нет правильных ответов')    \n",
    "    \n",
    "    return true_positive, false_positive, false_negative"
   ]
  },
  {
   "cell_type": "markdown",
   "metadata": {},
   "source": [
    "### Снова эталон"
   ]
  },
  {
   "cell_type": "markdown",
   "metadata": {},
   "source": [
    "Отфильтруем из него только те слова и сочетания, которые есть в текстах -- потому что иначе откуда их нашим алгоритмам брать"
   ]
  },
  {
   "cell_type": "code",
   "execution_count": 34,
   "metadata": {},
   "outputs": [
    {
     "name": "stdout",
     "output_type": "stream",
     "text": [
      "0\n",
      "open source\n",
      ".net\n",
      "rabbitms\n",
      "1\n",
      "форумный движок\n",
      "gamification\n",
      "привлечение пользователь\n",
      "2\n",
      "replication\n",
      "3\n",
      "грамматический парсер\n",
      ".net\n",
      "бухгалтерия программист\n",
      "анализатор код\n",
      "грамматический разбор\n",
      "4\n",
      "аудиомание\n",
      "миф реальность\n"
     ]
    }
   ],
   "source": [
    "keys_from_text = []\n",
    "for i in range(5):\n",
    "    print(i)\n",
    "    one_text_keys = []\n",
    "    for word in clean_texts_keywords['standard_keywords'][i]:\n",
    "        if word in clean_texts_keywords['texts'][i]:\n",
    "            one_text_keys.append(word)\n",
    "        else:\n",
    "            print(word)\n",
    "    keys_from_text.append(set(one_text_keys))"
   ]
  },
  {
   "cell_type": "markdown",
   "metadata": {},
   "source": [
    "И здесь мы видим, что хоть stanza и хороша, некоторые слова она клоняет неправильно. Посмотрите на \"аудиомание\" -- это название сайта, \"аудиомания\", и оно будет в ключевых словах"
   ]
  },
  {
   "cell_type": "code",
   "execution_count": 35,
   "metadata": {},
   "outputs": [
    {
     "data": {
      "text/plain": [
       "[{'masstransit', 'net', 'команда', 'событие'},\n",
       " {'xenforo', 'геймификация', 'плагин', 'форум'},\n",
       " {'cluster',\n",
       "  'failover',\n",
       "  'ha',\n",
       "  'haproxy',\n",
       "  'keepalived',\n",
       "  'master',\n",
       "  'pgbouncer',\n",
       "  'postgresq',\n",
       "  'postgresql',\n",
       "  'repmgr',\n",
       "  'standby',\n",
       "  'кластер'},\n",
       " {'irony',\n",
       "  'regexp',\n",
       "  'sql',\n",
       "  'бухгалтерия',\n",
       "  'грамматика',\n",
       "  'кт',\n",
       "  'регулярный выражение',\n",
       "  'синтаксический анализ',\n",
       "  'синтаксический анализатор',\n",
       "  'транслятор'},\n",
       " {'акустика',\n",
       "  'амплитудный частотный характеристика',\n",
       "  'аудиосистема',\n",
       "  'аудиотехника',\n",
       "  'аудиотехнология',\n",
       "  'музыка',\n",
       "  'наушник'}]"
      ]
     },
     "execution_count": 35,
     "metadata": {},
     "output_type": "execute_result"
    }
   ],
   "source": [
    "clean_texts_keywords['keywords_from_text'] = keys_from_text\n",
    "keys_from_text"
   ]
  },
  {
   "cell_type": "markdown",
   "metadata": {},
   "source": [
    "### Метрики без грамматических фильтров"
   ]
  },
  {
   "cell_type": "code",
   "execution_count": 36,
   "metadata": {},
   "outputs": [
    {
     "data": {
      "text/html": [
       "<div>\n",
       "<style scoped>\n",
       "    .dataframe tbody tr th:only-of-type {\n",
       "        vertical-align: middle;\n",
       "    }\n",
       "\n",
       "    .dataframe tbody tr th {\n",
       "        vertical-align: top;\n",
       "    }\n",
       "\n",
       "    .dataframe thead th {\n",
       "        text-align: right;\n",
       "    }\n",
       "</style>\n",
       "<table border=\"1\" class=\"dataframe\">\n",
       "  <thead>\n",
       "    <tr style=\"text-align: right;\">\n",
       "      <th></th>\n",
       "      <th>texts</th>\n",
       "      <th>standard_keywords</th>\n",
       "      <th>rake</th>\n",
       "      <th>textrank</th>\n",
       "      <th>tfidf</th>\n",
       "      <th>rake_patterns</th>\n",
       "      <th>textrank_patterns</th>\n",
       "      <th>tfidf_patterns</th>\n",
       "      <th>keywords_from_text</th>\n",
       "    </tr>\n",
       "  </thead>\n",
       "  <tbody>\n",
       "    <tr>\n",
       "      <th>0</th>\n",
       "      <td>качество message broker мочь выступать rabbitm...</td>\n",
       "      <td>[событие, masstransit, masstransit, open sourc...</td>\n",
       "      <td>[(получить сообщение, 4.0), (выбор консьюмер, ...</td>\n",
       "      <td>[(сообщение, 0.37372780733073396), (консьюмер,...</td>\n",
       "      <td>[(endpoint, 0.10748105307330351), (exchange, 0...</td>\n",
       "      <td>[(выбор консьюмер, 4.0), (схожий имплементация...</td>\n",
       "      <td>[(сообщение, 0.37372780733073396), (консьюмер,...</td>\n",
       "      <td>[(endpoint, 0.10748105307330351), (exchange, 0...</td>\n",
       "      <td>{masstransit, событие, net, команда}</td>\n",
       "    </tr>\n",
       "    <tr>\n",
       "      <th>1</th>\n",
       "      <td>введение выбор решение рано поздно наступать м...</td>\n",
       "      <td>[геймификация, форум, плагин, форумный движок,...</td>\n",
       "      <td>[(бывать коммерческий, 4.0), (поле низко, 4.0)...</td>\n",
       "      <td>[(система трофей, 0.3204399314731482), (пользо...</td>\n",
       "      <td>[(badge, 0.24377269691433537), (level, 0.12188...</td>\n",
       "      <td>[(таба, 1.0)]</td>\n",
       "      <td>[(система трофей, 0.3204399314731482), (пользо...</td>\n",
       "      <td>[(badge, 0.24377269691433537), (level, 0.12188...</td>\n",
       "      <td>{xenforo, форум, плагин, геймификация}</td>\n",
       "    </tr>\n",
       "    <tr>\n",
       "      <th>2</th>\n",
       "      <td>сегодняшний день процедура реализация «failove...</td>\n",
       "      <td>[postgresq, replication, keepalived, pgbouncer...</td>\n",
       "      <td>[(мастер-нод восстановление, 9.0), (интернет в...</td>\n",
       "      <td>[(нода, 0.30096812238258275), (ноды, 0.3009681...</td>\n",
       "      <td>[(pghost, 0.16333476828697313), (postgres, 0.2...</td>\n",
       "      <td>[(conf postgresql, 4.0), (grep repmgrd, 4.0), ...</td>\n",
       "      <td>[(нода, 0.30096812238258275), (ноды, 0.3009681...</td>\n",
       "      <td>[(pghost, 0.16333476828697313), (postgres, 0.2...</td>\n",
       "      <td>{postgresq, keepalived, pgbouncer, cluster, st...</td>\n",
       "    </tr>\n",
       "    <tr>\n",
       "      <th>3</th>\n",
       "      <td>часто программировать очередной бизнес фича вы...</td>\n",
       "      <td>[грамматический парсер, синтаксический анализа...</td>\n",
       "      <td>[(сводиться перекладывание, 4.0), (таблица бд,...</td>\n",
       "      <td>[(узел, 0.1687500170866756), (язык запрос тран...</td>\n",
       "      <td>[(ast, 0.2959134022754096), (irony, 0.10292640...</td>\n",
       "      <td>[(таблица бд, 4.0), (бессонный цейтнот, 4.0), ...</td>\n",
       "      <td>[(узел, 0.1687500170866756), (кода, 0.12131693...</td>\n",
       "      <td>[(ast, 0.2959134022754096), (irony, 0.10292640...</td>\n",
       "      <td>{синтаксический анализатор, транслятор, синтак...</td>\n",
       "    </tr>\n",
       "    <tr>\n",
       "      <th>4</th>\n",
       "      <td>индустрия звук который все слух практически по...</td>\n",
       "      <td>[аудиотехника, музыка, аудиомание, аудиотехнол...</td>\n",
       "      <td>[(сайт аудиомания, 4.0), (усилить особенно, 4....</td>\n",
       "      <td>[(звук который, 0.2044702034863903), (система,...</td>\n",
       "      <td>[(акустический, 0.10532637462606463), (аудиома...</td>\n",
       "      <td>[(сайт аудиомания, 4.0), (полный катушка, 4.0)...</td>\n",
       "      <td>[(система, 0.19009798864268804), (мочь, 0.1723...</td>\n",
       "      <td>[(аудиомания, 0.10532637462606463), (аудиосист...</td>\n",
       "      <td>{аудиотехника, музыка, амплитудный частотный х...</td>\n",
       "    </tr>\n",
       "  </tbody>\n",
       "</table>\n",
       "</div>"
      ],
      "text/plain": [
       "                                               texts  \\\n",
       "0  качество message broker мочь выступать rabbitm...   \n",
       "1  введение выбор решение рано поздно наступать м...   \n",
       "2  сегодняшний день процедура реализация «failove...   \n",
       "3  часто программировать очередной бизнес фича вы...   \n",
       "4  индустрия звук который все слух практически по...   \n",
       "\n",
       "                                   standard_keywords  \\\n",
       "0  [событие, masstransit, masstransit, open sourc...   \n",
       "1  [геймификация, форум, плагин, форумный движок,...   \n",
       "2  [postgresq, replication, keepalived, pgbouncer...   \n",
       "3  [грамматический парсер, синтаксический анализа...   \n",
       "4  [аудиотехника, музыка, аудиомание, аудиотехнол...   \n",
       "\n",
       "                                                rake  \\\n",
       "0  [(получить сообщение, 4.0), (выбор консьюмер, ...   \n",
       "1  [(бывать коммерческий, 4.0), (поле низко, 4.0)...   \n",
       "2  [(мастер-нод восстановление, 9.0), (интернет в...   \n",
       "3  [(сводиться перекладывание, 4.0), (таблица бд,...   \n",
       "4  [(сайт аудиомания, 4.0), (усилить особенно, 4....   \n",
       "\n",
       "                                            textrank  \\\n",
       "0  [(сообщение, 0.37372780733073396), (консьюмер,...   \n",
       "1  [(система трофей, 0.3204399314731482), (пользо...   \n",
       "2  [(нода, 0.30096812238258275), (ноды, 0.3009681...   \n",
       "3  [(узел, 0.1687500170866756), (язык запрос тран...   \n",
       "4  [(звук который, 0.2044702034863903), (система,...   \n",
       "\n",
       "                                               tfidf  \\\n",
       "0  [(endpoint, 0.10748105307330351), (exchange, 0...   \n",
       "1  [(badge, 0.24377269691433537), (level, 0.12188...   \n",
       "2  [(pghost, 0.16333476828697313), (postgres, 0.2...   \n",
       "3  [(ast, 0.2959134022754096), (irony, 0.10292640...   \n",
       "4  [(акустический, 0.10532637462606463), (аудиома...   \n",
       "\n",
       "                                       rake_patterns  \\\n",
       "0  [(выбор консьюмер, 4.0), (схожий имплементация...   \n",
       "1                                      [(таба, 1.0)]   \n",
       "2  [(conf postgresql, 4.0), (grep repmgrd, 4.0), ...   \n",
       "3  [(таблица бд, 4.0), (бессонный цейтнот, 4.0), ...   \n",
       "4  [(сайт аудиомания, 4.0), (полный катушка, 4.0)...   \n",
       "\n",
       "                                   textrank_patterns  \\\n",
       "0  [(сообщение, 0.37372780733073396), (консьюмер,...   \n",
       "1  [(система трофей, 0.3204399314731482), (пользо...   \n",
       "2  [(нода, 0.30096812238258275), (ноды, 0.3009681...   \n",
       "3  [(узел, 0.1687500170866756), (кода, 0.12131693...   \n",
       "4  [(система, 0.19009798864268804), (мочь, 0.1723...   \n",
       "\n",
       "                                      tfidf_patterns  \\\n",
       "0  [(endpoint, 0.10748105307330351), (exchange, 0...   \n",
       "1  [(badge, 0.24377269691433537), (level, 0.12188...   \n",
       "2  [(pghost, 0.16333476828697313), (postgres, 0.2...   \n",
       "3  [(ast, 0.2959134022754096), (irony, 0.10292640...   \n",
       "4  [(аудиомания, 0.10532637462606463), (аудиосист...   \n",
       "\n",
       "                                  keywords_from_text  \n",
       "0               {masstransit, событие, net, команда}  \n",
       "1             {xenforo, форум, плагин, геймификация}  \n",
       "2  {postgresq, keepalived, pgbouncer, cluster, st...  \n",
       "3  {синтаксический анализатор, транслятор, синтак...  \n",
       "4  {аудиотехника, музыка, амплитудный частотный х...  "
      ]
     },
     "execution_count": 36,
     "metadata": {},
     "output_type": "execute_result"
    }
   ],
   "source": [
    "clean_texts_keywords"
   ]
  },
  {
   "cell_type": "code",
   "execution_count": 37,
   "metadata": {},
   "outputs": [
    {
     "name": "stdout",
     "output_type": "stream",
     "text": [
      "Нет правильных ответов\n"
     ]
    },
    {
     "data": {
      "text/plain": [
       "(0, 103, 37)"
      ]
     },
     "execution_count": 37,
     "metadata": {},
     "output_type": "execute_result"
    }
   ],
   "source": [
    "count_results(clean_texts_keywords['keywords_from_text'], clean_texts_keywords['rake'])"
   ]
  },
  {
   "cell_type": "code",
   "execution_count": 38,
   "metadata": {},
   "outputs": [
    {
     "name": "stdout",
     "output_type": "stream",
     "text": [
      "precision: 0.05172413793103448\n",
      "recall: 0.16216216216216217\n",
      "f_score: 0.0784313725490196\n"
     ]
    },
    {
     "data": {
      "text/plain": [
       "(6, 110, 31)"
      ]
     },
     "execution_count": 38,
     "metadata": {},
     "output_type": "execute_result"
    }
   ],
   "source": [
    "count_results(clean_texts_keywords['keywords_from_text'], clean_texts_keywords['textrank'])"
   ]
  },
  {
   "cell_type": "code",
   "execution_count": 51,
   "metadata": {},
   "outputs": [
    {
     "name": "stdout",
     "output_type": "stream",
     "text": [
      "precision: 0.19767441860465115\n",
      "recall: 0.4594594594594595\n",
      "f_score: 0.2764227642276423\n"
     ]
    },
    {
     "data": {
      "text/plain": [
       "(17, 69, 20)"
      ]
     },
     "execution_count": 51,
     "metadata": {},
     "output_type": "execute_result"
    }
   ],
   "source": [
    "count_results(clean_texts_keywords['keywords_from_text'], clean_texts_keywords['tfidf'])"
   ]
  },
  {
   "cell_type": "markdown",
   "metadata": {},
   "source": [
    "### Метрики с грамматическими фильтрами"
   ]
  },
  {
   "cell_type": "code",
   "execution_count": 40,
   "metadata": {},
   "outputs": [
    {
     "name": "stdout",
     "output_type": "stream",
     "text": [
      "Нет правильных ответов\n"
     ]
    },
    {
     "data": {
      "text/plain": [
       "(0, 32, 37)"
      ]
     },
     "execution_count": 40,
     "metadata": {},
     "output_type": "execute_result"
    }
   ],
   "source": [
    "count_results(clean_texts_keywords['keywords_from_text'], clean_texts_keywords['rake_patterns'])"
   ]
  },
  {
   "cell_type": "code",
   "execution_count": 41,
   "metadata": {},
   "outputs": [
    {
     "name": "stdout",
     "output_type": "stream",
     "text": [
      "precision: 0.09090909090909091\n",
      "recall: 0.16216216216216217\n",
      "f_score: 0.11650485436893203\n"
     ]
    },
    {
     "data": {
      "text/plain": [
       "(6, 60, 31)"
      ]
     },
     "execution_count": 41,
     "metadata": {},
     "output_type": "execute_result"
    }
   ],
   "source": [
    "count_results(clean_texts_keywords['keywords_from_text'], clean_texts_keywords['textrank_patterns'])"
   ]
  },
  {
   "cell_type": "code",
   "execution_count": 42,
   "metadata": {
    "scrolled": true
   },
   "outputs": [
    {
     "name": "stdout",
     "output_type": "stream",
     "text": [
      "precision: 0.25757575757575757\n",
      "recall: 0.4594594594594595\n",
      "f_score: 0.3300970873786408\n"
     ]
    },
    {
     "data": {
      "text/plain": [
       "(17, 49, 20)"
      ]
     },
     "execution_count": 42,
     "metadata": {},
     "output_type": "execute_result"
    }
   ],
   "source": [
    "count_results(clean_texts_keywords['keywords_from_text'], clean_texts_keywords['tfidf_patterns'])"
   ]
  },
  {
   "cell_type": "markdown",
   "metadata": {},
   "source": [
    "Улучшились!"
   ]
  },
  {
   "cell_type": "code",
   "execution_count": 43,
   "metadata": {},
   "outputs": [
    {
     "name": "stdout",
     "output_type": "stream",
     "text": [
      "{'masstransit', 'событие', 'net', 'команда'}\n",
      "{'xenforo', 'форум', 'плагин', 'геймификация'}\n",
      "{'postgresq', 'keepalived', 'pgbouncer', 'cluster', 'standby', 'master', 'haproxy', 'postgresql', 'ha', 'кластер', 'failover', 'repmgr'}\n",
      "{'синтаксический анализатор', 'транслятор', 'синтаксический анализ', 'кт', 'regexp', 'sql', 'регулярный выражение', 'бухгалтерия', 'грамматика', 'irony'}\n",
      "{'аудиотехника', 'музыка', 'амплитудный частотный характеристика', 'акустика', 'аудиосистема', 'аудиотехнология', 'наушник'}\n"
     ]
    }
   ],
   "source": [
    "for i in clean_texts_keywords['keywords_from_text']:\n",
    "    print(i)"
   ]
  },
  {
   "cell_type": "code",
   "execution_count": 52,
   "metadata": {},
   "outputs": [
    {
     "name": "stdout",
     "output_type": "stream",
     "text": [
      "************\n",
      "endpoint\n",
      "exchange\n",
      "masstransit\n",
      "интерфейс\n",
      "команда\n",
      "консьюмер\n",
      "контейнер\n",
      "конфигурация\n",
      "наименование\n",
      "отправка\n",
      "смс\n",
      "событие\n",
      "сообщение\n",
      "тип\n",
      "************\n",
      "badge\n",
      "level\n",
      "step\n",
      "xenforo\n",
      "геймификация\n",
      "достижение\n",
      "количество\n",
      "критерий\n",
      "пользователь\n",
      "система\n",
      "сообщество\n",
      "таб\n",
      "трофей\n",
      "трофея\n",
      "уровень\n",
      "форум\n",
      "************\n",
      "pghost\n",
      "postgres\n",
      "postgresql\n",
      "repmgr\n",
      "standby\n",
      "su\n",
      "кластер\n",
      "мастер\n",
      "нода\n",
      "сервер\n",
      "скрипт\n",
      "текст\n",
      "файл\n",
      "************\n",
      "ast\n",
      "irony\n",
      "regexp\n",
      "sql\n",
      "база\n",
      "грамматика\n",
      "запрос\n",
      "метод\n",
      "правило\n",
      "свойство\n",
      "узел\n",
      "язык\n",
      "************\n",
      "аудиомания\n",
      "аудиосистема\n",
      "аудиотехника\n",
      "звук\n",
      "звучание\n",
      "мочь\n",
      "наушник\n",
      "система\n",
      "усилитель\n",
      "устройство\n",
      "цап\n"
     ]
    }
   ],
   "source": [
    "for i in clean_texts_keywords['tfidf_patterns']:\n",
    "    print('************')\n",
    "    for el in i:\n",
    "        print(el[0])"
   ]
  },
  {
   "cell_type": "markdown",
   "metadata": {},
   "source": [
    "## Часть шестая. Ошибки и их анализ"
   ]
  },
  {
   "cell_type": "markdown",
   "metadata": {},
   "source": [
    "Итак. Где и кто ошибается. RAKE -- к сожалению, везде. Ни одного верного ключевого слова. Вероятнее всего, он просто мало подходит к нашим текстам, так как они довольно специфические. TextRank -- меньше, чем tf-idf, но фильтры ему помогли. \n",
    "Tf-Idf из них трёх показал лучший скор по всем параметрам, особенно с фильтрами.\n",
    "<br>\n",
    "Почему?\n",
    "<br>\n",
    "У нас очень специфический датасет. Это не новости, не повествовательные последовательные тексты, не описания событий. Это тьюториалы и статьи с хабра. Во-первых, другой жанр -- многио тьюториалов и пояснений к коду. Во-вторых, куски кода, которые плохо отделяются от основного текста. В-третьих, тьма терминов на английском прямо посреди русского текста. Даже мультиязычная модель нам здесь, возможно, не помощник -- так как английские слова являются или названиями, или терминами. Вероятно, нужно уулучшить очистку текста от кода -- например, с помощью регулярок (хотя это сложно, на все-то языки программирования) или применения дополнительных парсеров/знаний о синтаксисе, что тоже не очень просто.  Почему мы выбрали такую очистку? У нас, конечно, 5 статей, можно было бы вручную всё удалить, но если применять на большем -- не пойдёт. Самым разумным методом избавления от кода было бы собирание либо отдельно, либо с разделителями, но это надо данные ещё раз собирать. Ещё можно было бы просто выкидывать куски латиницы, которые перемежаются любым синтаксисом, длиной более 50, скажем, символов. Тоже могло сработать, тоже не везде.\n",
    "<br>\n",
    "Если мы посмотрим на выделенные, например, тф-идфом слова, то увидим, что в них много синонимов/слов из близких областей. Например, в пятом тексте это звук и звучание. А в пользовательских тегах вместо этого -- музыка, немного другое, более общее слово не из технических характеристик. В целом, ключевые слова и термины выделяются, но естественно, алгоритмам не очень ясно, у кого из них более широкая семантика, а у кого более узкая, или, например, что вот эта библиотека -- для вот такого языка, или мы рассматриваем один из группы плагинов. В этом случае в пользовательских словах скорее будут более обширные темы, чем более частные, а в авторматичеом выделении и те, и другие. Или, например, мы используем какую-то библиотеку в помощь другой, как пандас при выделении ключевых слов. Тогда в ключевых словах пользователя ожидается упоминание основной библиотеки, но вряд ли всех, используемых \"в помощь\". А вот при одинаковом количестве употреблений алгоритм разницу может и не понять.\n",
    "<br>\n",
    "Также существует проблема модели для обработки текста. Stanza в принципе неплоха, но где-то ломается и портит результаты и она. Решение -- попробовать разные модели и, возможно, выбрать другую"
   ]
  }
 ],
 "metadata": {
  "kernelspec": {
   "display_name": "Python 3",
   "language": "python",
   "name": "python3"
  },
  "language_info": {
   "codemirror_mode": {
    "name": "ipython",
    "version": 3
   },
   "file_extension": ".py",
   "mimetype": "text/x-python",
   "name": "python",
   "nbconvert_exporter": "python",
   "pygments_lexer": "ipython3",
   "version": "3.7.4"
  }
 },
 "nbformat": 4,
 "nbformat_minor": 2
}
